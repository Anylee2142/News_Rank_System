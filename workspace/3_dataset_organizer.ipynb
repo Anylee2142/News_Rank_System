{
 "cells": [
  {
   "cell_type": "code",
   "execution_count": 65,
   "metadata": {},
   "outputs": [],
   "source": [
    "import pandas as pd\n",
    "import pickle\n",
    "\n",
    "from os import listdir\n",
    "from os.path import isfile, join"
   ]
  },
  {
   "cell_type": "code",
   "execution_count": 66,
   "metadata": {},
   "outputs": [],
   "source": [
    "folder_name = '2018-04-19 19-23-11'"
   ]
  },
  {
   "cell_type": "code",
   "execution_count": 69,
   "metadata": {
    "scrolled": true
   },
   "outputs": [
    {
     "name": "stdout",
     "output_type": "stream",
     "text": [
      "('정치', 0)  completed !\n",
      "('경제', 1)  completed !\n",
      "('사회', 2)  completed !\n",
      "('세계', 3)  completed !\n",
      "('생활문화', 4)  completed !\n",
      "('IT과학', 5)  completed !\n"
     ]
    }
   ],
   "source": [
    "path = [('정치',0), ('경제',1), ('사회',2), ('세계',3), ('생활문화',4), ('IT과학',5)]\n",
    "# path = [('정치',0)]\n",
    "\n",
    "total_df = pd.DataFrame(columns=['content','area'])\n",
    "\n",
    "def date_trimmer(raw_date):\n",
    "    tmp = raw_date.split('/')[-1].replace('.txt',':00')\n",
    "    tmp = tmp.split()\n",
    "    return '-'.join(tmp[0].split('-')[1:]) + ' ' + tmp[1].replace('-',':')\n",
    "\n",
    "for each in path:\n",
    "    preprocess_path = '{}/{}/{}'.format('preprocess',folder_name,each[0])\n",
    "    file_names = [f for f in listdir(preprocess_path) if isfile(\n",
    "        join(preprocess_path, f)) and f.endswith(\".txt\")]\n",
    "    full_names = ['{}/{}'.format(preprocess_path, tmp) for tmp in file_names]\n",
    "\n",
    "    contents = []\n",
    "    written_date = []\n",
    "    \n",
    "    df = pd.DataFrame(columns=['content','area'])\n",
    "    \n",
    "    for file_name in full_names:\n",
    "\n",
    "        with open(file_name, 'r', encoding='utf-8') as f:\n",
    "            contents.append(f.read())\n",
    "            written_date.append(file_name)\n",
    "            \n",
    "    df['content'] = pd.Series(contents)\n",
    "    df['area'] = each[1]\n",
    "    df['written_date'] = pd.Series(written_date)\n",
    "    df['written_date'] = df['written_date'].apply(date_trimmer)\n",
    "    df['title'] = df['content'].apply(lambda x: x.split('\\n')[0].replace('\\t',''))\n",
    "    \n",
    "    df = df[['title','content','written_date','area']]\n",
    "    \n",
    "    total_df = total_df.append(df)\n",
    "    print(each,' completed !')\n",
    "\n",
    "total_df['area'] = total_df.area.astype('int64')\n",
    "total_df.reset_index(drop=True, inplace=True)"
   ]
  },
  {
   "cell_type": "code",
   "execution_count": 70,
   "metadata": {},
   "outputs": [],
   "source": [
    "from datetime import datetime\n",
    "\n",
    "now = datetime.now()\n",
    "cur_time = now.strftime('%Y-%m-%d %H-%M-%S')"
   ]
  },
  {
   "cell_type": "code",
   "execution_count": 71,
   "metadata": {},
   "outputs": [],
   "source": [
    "with open('dataset/training_set.pkl'.format(cur_time),'wb') as f:\n",
    "    pickle.dump(total_df, f)"
   ]
  },
  {
   "cell_type": "code",
   "execution_count": null,
   "metadata": {},
   "outputs": [],
   "source": []
  }
 ],
 "metadata": {
  "kernelspec": {
   "display_name": "Python 3",
   "language": "python",
   "name": "python3"
  },
  "language_info": {
   "codemirror_mode": {
    "name": "ipython",
    "version": 3
   },
   "file_extension": ".py",
   "mimetype": "text/x-python",
   "name": "python",
   "nbconvert_exporter": "python",
   "pygments_lexer": "ipython3",
   "version": "3.6.3"
  }
 },
 "nbformat": 4,
 "nbformat_minor": 2
}
