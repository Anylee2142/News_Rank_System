{
 "cells": [
  {
   "cell_type": "markdown",
   "metadata": {},
   "source": [
    "# TFIDF + Pos tagger 'TFIDF/POS' = 0.92\n",
    "    > 단순히 tfidf값이 낮은 애들을 stopwords에 포함시켜도 성능이 안 오름ㅁ\n",
    "    > tfidf값이 낮은 애들이 아니라 숫자, 조사같이 품사에 따라 넣어야 할거 뺄거 구분하자\n",
    "    http://konlpy.org/ko/v0.4.3/morph/\n",
    "# TFIDF = 0.94\n",
    "\n",
    "# 'TFIDF/POS'말고 twitter를 써서 추출한 morpheme을 쓰자\n",
    "--------------"
   ]
  },
  {
   "cell_type": "markdown",
   "metadata": {},
   "source": [
    "# tfidf threshold 0.4이상으로 줬더니 전부 숫자다\n",
    "# 품사에서 숫자를 빼보자\n",
    "# alpha, 영어가 많다, 영어도 빼자"
   ]
  },
  {
   "cell_type": "markdown",
   "metadata": {},
   "source": [
    "# tfidf에 POS TAGGER 안쓰니까 성능이 오른다..\n",
    "# 왜지"
   ]
  },
  {
   "cell_type": "markdown",
   "metadata": {},
   "source": []
  }
 ],
 "metadata": {
  "kernelspec": {
   "display_name": "Python 3",
   "language": "python",
   "name": "python3"
  },
  "language_info": {
   "codemirror_mode": {
    "name": "ipython",
    "version": 3
   },
   "file_extension": ".py",
   "mimetype": "text/x-python",
   "name": "python",
   "nbconvert_exporter": "python",
   "pygments_lexer": "ipython3",
   "version": "3.6.4"
  }
 },
 "nbformat": 4,
 "nbformat_minor": 2
}
