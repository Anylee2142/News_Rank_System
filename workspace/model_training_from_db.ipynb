{
 "cells": [
  {
   "cell_type": "code",
   "execution_count": 13,
   "metadata": {},
   "outputs": [
    {
     "name": "stderr",
     "output_type": "stream",
     "text": [
      "D:\\anaconda\\lib\\site-packages\\sklearn\\cross_validation.py:41: DeprecationWarning: This module was deprecated in version 0.18 in favor of the model_selection module into which all the refactored classes and functions are moved. Also note that the interface of the new CV iterators are different from that of this module. This module will be removed in 0.20.\n",
      "  \"This module will be removed in 0.20.\", DeprecationWarning)\n"
     ]
    }
   ],
   "source": [
    "import MySQLdb as db\n",
    "import pandas as pd\n",
    "import numpy as np\n",
    "import dill as pickle\n",
    "from sklearn.model_selection import train_test_split\n",
    "from sklearn.naive_bayes import MultinomialNB\n",
    "from sklearn.pipeline import Pipeline\n",
    "from konlpy.tag import Twitter\n",
    "from sklearn.metrics import confusion_matrix, classification_report\n",
    "from sklearn.feature_extraction.text import CountVectorizer, TfidfVectorizer\n",
    "from sklearn.cross_validation import cross_val_score\n",
    "from datetime import datetime"
   ]
  },
  {
   "cell_type": "code",
   "execution_count": 3,
   "metadata": {},
   "outputs": [],
   "source": [
    "# import json\n",
    "\n",
    "# with open('/home/ej/github/news_config.json') as f:\n",
    "#     config = json.load(f)\n",
    "\n",
    "# db = db.connect(\n",
    "#     config['ADDR'],\n",
    "#     config['ID'],\n",
    "#     config['PW'],\n",
    "#     config['DB'],\n",
    "#     charset='utf8'\n",
    "# )\n",
    "\n",
    "db = db.connect(\n",
    "    '127.0.0.1',\n",
    "    'root',\n",
    "    '5555',\n",
    "    'news_rec',\n",
    "    charset='utf8'\n",
    ")"
   ]
  },
  {
   "cell_type": "code",
   "execution_count": 4,
   "metadata": {},
   "outputs": [],
   "source": [
    "data = pd.read_sql('SELECT * FROM ARTICLE;', db)"
   ]
  },
  {
   "cell_type": "code",
   "execution_count": 5,
   "metadata": {},
   "outputs": [],
   "source": [
    "X = data.content\n",
    "y = data.area"
   ]
  },
  {
   "cell_type": "code",
   "execution_count": 16,
   "metadata": {},
   "outputs": [],
   "source": [
    "from sklearn.model_selection import KFold\n",
    "\n",
    "cv1 = KFold(n_splits=4, shuffle=True, random_state=0)\n",
    "\n",
    "clf = Pipeline([\n",
    "    ('vect', TfidfVectorizer(tokenizer=lambda x: ['/'.join(t) for t in Twitter().pos(x)]) ),\n",
    "    ('clf',MultinomialNB(alpha=0.01)),\n",
    "])\n",
    "\n",
    "# for Test set\n",
    "X_train, X_test, y_train, y_test = train_test_split(X,y, test_size=0.2, random_state=0)\n",
    "\n",
    "scores = cross_val_score(clf, X_train, y_train, cv=4)"
   ]
  },
  {
   "cell_type": "code",
   "execution_count": 19,
   "metadata": {},
   "outputs": [],
   "source": [
    "model = clf.fit(X_train, y_train)"
   ]
  },
  {
   "cell_type": "code",
   "execution_count": 20,
   "metadata": {},
   "outputs": [],
   "source": [
    "y_pred = model.predict(X_test)"
   ]
  },
  {
   "cell_type": "code",
   "execution_count": 24,
   "metadata": {},
   "outputs": [],
   "source": [
    "tmp = classification_report(y_test, y_pred)"
   ]
  },
  {
   "cell_type": "code",
   "execution_count": 25,
   "metadata": {},
   "outputs": [
    {
     "data": {
      "text/plain": [
       "'             precision    recall  f1-score   support\\n\\n          0       0.91      0.92      0.91       646\\n          1       0.87      0.86      0.87       566\\n          2       0.91      0.89      0.90       608\\n          3       0.93      0.94      0.93       640\\n          4       0.92      0.93      0.92       675\\n          5       0.94      0.94      0.94       679\\n\\navg / total       0.91      0.91      0.91      3814\\n'"
      ]
     },
     "execution_count": 25,
     "metadata": {},
     "output_type": "execute_result"
    }
   ],
   "source": [
    "tmp"
   ]
  },
  {
   "cell_type": "code",
   "execution_count": 17,
   "metadata": {},
   "outputs": [
    {
     "data": {
      "text/plain": [
       "array([0.91352201, 0.92003146, 0.9166011 , 0.91653543])"
      ]
     },
     "execution_count": 17,
     "metadata": {},
     "output_type": "execute_result"
    }
   ],
   "source": [
    "scores"
   ]
  },
  {
   "cell_type": "code",
   "execution_count": 158,
   "metadata": {
    "collapsed": true
   },
   "outputs": [],
   "source": [
    "X_train, X_test, y_train, y_test = train_test_split(data.content, data.area, test_size=0.3, random_state=2)"
   ]
  },
  {
   "cell_type": "code",
   "execution_count": 159,
   "metadata": {},
   "outputs": [
    {
     "data": {
      "text/plain": [
       "4    2292\n",
       "0    2279\n",
       "2    2245\n",
       "3    2234\n",
       "5    2175\n",
       "1    2121\n",
       "Name: area, dtype: int64"
      ]
     },
     "execution_count": 159,
     "metadata": {},
     "output_type": "execute_result"
    }
   ],
   "source": [
    "y_train.value_counts()"
   ]
  },
  {
   "cell_type": "code",
   "execution_count": 160,
   "metadata": {},
   "outputs": [
    {
     "data": {
      "text/plain": [
       "0    1017\n",
       "4     988\n",
       "3     985\n",
       "5     959\n",
       "1     900\n",
       "2     872\n",
       "Name: area, dtype: int64"
      ]
     },
     "execution_count": 160,
     "metadata": {},
     "output_type": "execute_result"
    }
   ],
   "source": [
    "y_test.value_counts()"
   ]
  },
  {
   "cell_type": "code",
   "execution_count": 161,
   "metadata": {
    "collapsed": true
   },
   "outputs": [],
   "source": [
    "X_train = X_train[:100]\n",
    "X_test = X_test[:100]\n",
    "y_train = y_train[:100]\n",
    "y_test = y_test[:100]"
   ]
  },
  {
   "cell_type": "code",
   "execution_count": 184,
   "metadata": {
    "collapsed": true
   },
   "outputs": [],
   "source": [
    "clf = Pipeline([\n",
    "    ('vect', TfidfVectorizer(tokenizer=lambda x: ['/'.join(t) for t in Twitter().pos(x)]) ),\n",
    "    ('clf',MultinomialNB(alpha=0.01)),\n",
    "])"
   ]
  },
  {
   "cell_type": "code",
   "execution_count": 190,
   "metadata": {},
   "outputs": [
    {
     "name": "stdout",
     "output_type": "stream",
     "text": [
      "Cross validaiton started !\n",
      "iteration :  0 , elapsed time :  0 min 3 sec\n",
      "iteration :  1 , elapsed time :  0 min 3 sec\n",
      "iteration :  2 , elapsed time :  0 min 3 sec\n",
      "Completed ! 0 min 11 sec\n"
     ]
    }
   ],
   "source": [
    "how_many_folds = 3\n",
    "\n",
    "cnf_mat = []\n",
    "clf_rep = []\n",
    "\n",
    "\n",
    "total_here = datetime.now()\n",
    "\n",
    "print('Cross validaiton started !')\n",
    "for idx in range(0,how_many_folds):\n",
    "    here = datetime.now()\n",
    "    X_train, X_test, y_train, y_test = train_test_split(data.content, data.area, test_size=0.3, random_state=idx)\n",
    "    clf = Pipeline([\n",
    "    ('vect', TfidfVectorizer(tokenizer=lambda x: ['/'.join(t) for t in Twitter().pos(x)])),\n",
    "    ('clf',MultinomialNB(alpha=0.01)),\n",
    "    ])\n",
    "    \n",
    "    # for test\n",
    "#     X_train, X_test, y_train, y_test = X_train[:100], X_test[:100], y_train[:100], y_test[:100]\n",
    "    \n",
    "    model = clf.fit(X_train, y_train)\n",
    "    \n",
    "    y_pred = model.predict(X_test)\n",
    "    \n",
    "    cnf_mat.append(str(confusion_matrix(y_test, y_pred)))\n",
    "    clf_rep.append(classification_report(y_test, y_pred))\n",
    "    \n",
    "    td = datetime.now() - here\n",
    "    minutes = td.seconds // 60 % 60\n",
    "    print('iteration : ',idx, ', elapsed time :','{} min'.format(minutes),'{} sec'.format(td.seconds - minutes * 60))\n",
    "    \n",
    "    \n",
    "    \n",
    "total_td = datetime.now() - total_here\n",
    "minutes = total_td.seconds // 60 % 60\n",
    "print('Completed !', '{} min'.format(minutes),'{} sec'.format(total_td.seconds - minutes * 60))"
   ]
  },
  {
   "cell_type": "code",
   "execution_count": 193,
   "metadata": {
    "collapsed": true
   },
   "outputs": [],
   "source": [
    "y_pred = model.predict(X_test)"
   ]
  },
  {
   "cell_type": "code",
   "execution_count": 195,
   "metadata": {},
   "outputs": [
    {
     "name": "stdout",
     "output_type": "stream",
     "text": [
      "             precision    recall  f1-score   support\n",
      "\n",
      "          0       0.52      0.94      0.67        16\n",
      "          1       0.80      0.63      0.71        19\n",
      "          2       0.40      0.38      0.39        16\n",
      "          3       0.83      0.33      0.48        15\n",
      "          4       0.69      0.65      0.67        17\n",
      "          5       0.74      0.82      0.78        17\n",
      "\n",
      "avg / total       0.67      0.63      0.62       100\n",
      "\n"
     ]
    }
   ],
   "source": [
    "print(classification_report(y_test, y_pred))"
   ]
  },
  {
   "cell_type": "code",
   "execution_count": 200,
   "metadata": {},
   "outputs": [
    {
     "name": "stdout",
     "output_type": "stream",
     "text": [
      "[[18  1  0  0  0  1]\n",
      " [ 0 12  3  1  2  1]\n",
      " [ 2  1  5  1  0  0]\n",
      " [ 6  2  3  7  1  1]\n",
      " [ 1  2  8  1  7  1]\n",
      " [ 1  2  0  1  1  7]]\n",
      "\n",
      "[[11  0  3  0  0  0]\n",
      " [ 6  7  0  0  1  5]\n",
      " [ 5  1 13  0  3  0]\n",
      " [ 2  1  1  8  0  0]\n",
      " [ 0  0  3  2 11  2]\n",
      " [ 0  0  0  0  0 15]]\n",
      "\n",
      "[[15  0  1  0  0  0]\n",
      " [ 2 12  3  0  0  2]\n",
      " [ 7  1  6  0  2  0]\n",
      " [ 3  1  4  5  1  1]\n",
      " [ 1  1  1  1 11  2]\n",
      " [ 1  0  0  0  2 14]]\n"
     ]
    }
   ],
   "source": [
    "print('\\n\\n'.join(cnf_mat))"
   ]
  },
  {
   "cell_type": "code",
   "execution_count": 201,
   "metadata": {},
   "outputs": [
    {
     "name": "stdout",
     "output_type": "stream",
     "text": [
      "             precision    recall  f1-score   support\n",
      "\n",
      "          0       0.64      0.90      0.75        20\n",
      "          1       0.60      0.63      0.62        19\n",
      "          2       0.26      0.56      0.36         9\n",
      "          3       0.64      0.35      0.45        20\n",
      "          4       0.64      0.35      0.45        20\n",
      "          5       0.64      0.58      0.61        12\n",
      "\n",
      "avg / total       0.60      0.56      0.55       100\n",
      "\n",
      "\n",
      "             precision    recall  f1-score   support\n",
      "\n",
      "          0       0.46      0.79      0.58        14\n",
      "          1       0.78      0.37      0.50        19\n",
      "          2       0.65      0.59      0.62        22\n",
      "          3       0.80      0.67      0.73        12\n",
      "          4       0.73      0.61      0.67        18\n",
      "          5       0.68      1.00      0.81        15\n",
      "\n",
      "avg / total       0.69      0.65      0.64       100\n",
      "\n",
      "\n",
      "             precision    recall  f1-score   support\n",
      "\n",
      "          0       0.52      0.94      0.67        16\n",
      "          1       0.80      0.63      0.71        19\n",
      "          2       0.40      0.38      0.39        16\n",
      "          3       0.83      0.33      0.48        15\n",
      "          4       0.69      0.65      0.67        17\n",
      "          5       0.74      0.82      0.78        17\n",
      "\n",
      "avg / total       0.67      0.63      0.62       100\n",
      "\n"
     ]
    }
   ],
   "source": [
    "print('\\n\\n'.join(clf_rep))"
   ]
  },
  {
   "cell_type": "code",
   "execution_count": 181,
   "metadata": {},
   "outputs": [
    {
     "name": "stdout",
     "output_type": "stream",
     "text": [
      "[[18  1  0  0  0  1]\n",
      " [ 0 12  3  1  2  1]\n",
      " [ 2  1  5  1  0  0]\n",
      " [ 6  2  3  7  1  1]\n",
      " [ 1  2  8  1  7  1]\n",
      " [ 1  2  0  1  1  7]]\n",
      "[[11  0  3  0  0  0]\n",
      " [ 6  7  0  0  1  5]\n",
      " [ 5  1 13  0  3  0]\n",
      " [ 2  1  1  8  0  0]\n",
      " [ 0  0  3  2 11  2]\n",
      " [ 0  0  0  0  0 15]]\n",
      "[[15  0  1  0  0  0]\n",
      " [ 2 12  3  0  0  2]\n",
      " [ 7  1  6  0  2  0]\n",
      " [ 3  1  4  5  1  1]\n",
      " [ 1  1  1  1 11  2]\n",
      " [ 1  0  0  0  2 14]]\n"
     ]
    }
   ],
   "source": [
    "for each in cnf_mat:\n",
    "    print(each)"
   ]
  },
  {
   "cell_type": "code",
   "execution_count": 180,
   "metadata": {},
   "outputs": [
    {
     "name": "stdout",
     "output_type": "stream",
     "text": [
      "             precision    recall  f1-score   support\n",
      "\n",
      "          0       0.64      0.90      0.75        20\n",
      "          1       0.60      0.63      0.62        19\n",
      "          2       0.26      0.56      0.36         9\n",
      "          3       0.64      0.35      0.45        20\n",
      "          4       0.64      0.35      0.45        20\n",
      "          5       0.64      0.58      0.61        12\n",
      "\n",
      "avg / total       0.60      0.56      0.55       100\n",
      "\n",
      "             precision    recall  f1-score   support\n",
      "\n",
      "          0       0.46      0.79      0.58        14\n",
      "          1       0.78      0.37      0.50        19\n",
      "          2       0.65      0.59      0.62        22\n",
      "          3       0.80      0.67      0.73        12\n",
      "          4       0.73      0.61      0.67        18\n",
      "          5       0.68      1.00      0.81        15\n",
      "\n",
      "avg / total       0.69      0.65      0.64       100\n",
      "\n",
      "             precision    recall  f1-score   support\n",
      "\n",
      "          0       0.52      0.94      0.67        16\n",
      "          1       0.80      0.63      0.71        19\n",
      "          2       0.40      0.38      0.39        16\n",
      "          3       0.83      0.33      0.48        15\n",
      "          4       0.69      0.65      0.67        17\n",
      "          5       0.74      0.82      0.78        17\n",
      "\n",
      "avg / total       0.67      0.63      0.62       100\n",
      "\n"
     ]
    }
   ],
   "source": [
    "for each in clf_rep:\n",
    "    print(each)"
   ]
  },
  {
   "cell_type": "code",
   "execution_count": 163,
   "metadata": {},
   "outputs": [
    {
     "name": "stdout",
     "output_type": "stream",
     "text": [
      "Wall time: 1.69 s\n"
     ]
    }
   ],
   "source": [
    "%%time\n",
    "model = clf.fit(X_train, y_train)"
   ]
  },
  {
   "cell_type": "code",
   "execution_count": 164,
   "metadata": {},
   "outputs": [
    {
     "name": "stdout",
     "output_type": "stream",
     "text": [
      "Wall time: 1.94 s\n"
     ]
    }
   ],
   "source": [
    "%%time\n",
    "y_pred = model.predict(X_test)"
   ]
  },
  {
   "cell_type": "code",
   "execution_count": 165,
   "metadata": {
    "collapsed": true
   },
   "outputs": [],
   "source": [
    "cnf_mat = confusion_matrix(y_test, y_pred)"
   ]
  },
  {
   "cell_type": "code",
   "execution_count": 174,
   "metadata": {},
   "outputs": [
    {
     "name": "stdout",
     "output_type": "stream",
     "text": [
      "[[15  0  1  0  0  0]\n",
      " [ 2 12  3  0  0  2]\n",
      " [ 7  1  6  0  2  0]\n",
      " [ 3  1  4  5  1  1]\n",
      " [ 1  1  1  1 11  2]\n",
      " [ 1  0  0  0  2 14]]\n"
     ]
    }
   ],
   "source": [
    "print(str(confusion_matrix(y_test, y_pred)))"
   ]
  },
  {
   "cell_type": "code",
   "execution_count": 167,
   "metadata": {
    "collapsed": true
   },
   "outputs": [],
   "source": [
    "clf_rep = classification_report(y_test, y_pred)"
   ]
  },
  {
   "cell_type": "code",
   "execution_count": 169,
   "metadata": {},
   "outputs": [
    {
     "name": "stdout",
     "output_type": "stream",
     "text": [
      "             precision    recall  f1-score   support\n",
      "\n",
      "          0       0.52      0.94      0.67        16\n",
      "          1       0.80      0.63      0.71        19\n",
      "          2       0.40      0.38      0.39        16\n",
      "          3       0.83      0.33      0.48        15\n",
      "          4       0.69      0.65      0.67        17\n",
      "          5       0.74      0.82      0.78        17\n",
      "\n",
      "avg / total       0.67      0.63      0.62       100\n",
      "\n"
     ]
    }
   ],
   "source": [
    "print(clf_rep)"
   ]
  },
  {
   "cell_type": "markdown",
   "metadata": {},
   "source": [
    "------------"
   ]
  },
  {
   "cell_type": "code",
   "execution_count": 80,
   "metadata": {
    "collapsed": true
   },
   "outputs": [],
   "source": [
    "from datetime import datetime\n",
    "\n",
    "cur_time = datetime.now().strftime('%Y-%m-%d %H-%M-%S')\n",
    "\n",
    "pickle.dump(model, open(\"model/twitter_tfidf_mulnb_{}.pkl\".format(cur_time), \"wb\"))\n",
    "with open('model/twitter_tfidf_mulnb_cnf_mat_{}.txt'.format(cur_time),'w',encoding='utf-8') as f:\n",
    "    f.write(str(con_mat))\n",
    "\n",
    "with open('model/twitter_tfidf_mulnb_clf_rep_{}.txt'.format(cur_time),'w',encoding='utf-8') as f:\n",
    "    f.write(clf_report)"
   ]
  },
  {
   "cell_type": "code",
   "execution_count": null,
   "metadata": {
    "collapsed": true
   },
   "outputs": [],
   "source": []
  }
 ],
 "metadata": {
  "kernelspec": {
   "display_name": "Python 3",
   "language": "python",
   "name": "python3"
  },
  "language_info": {
   "codemirror_mode": {
    "name": "ipython",
    "version": 3
   },
   "file_extension": ".py",
   "mimetype": "text/x-python",
   "name": "python",
   "nbconvert_exporter": "python",
   "pygments_lexer": "ipython3",
   "version": "3.6.4"
  }
 },
 "nbformat": 4,
 "nbformat_minor": 2
}
