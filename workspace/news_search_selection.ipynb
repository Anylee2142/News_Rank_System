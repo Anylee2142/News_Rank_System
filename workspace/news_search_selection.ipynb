{
 "cells": [
  {
   "cell_type": "markdown",
   "metadata": {},
   "source": [
    "# 0. 로그인한 유저의 장르 매트릭스를 만듦( 얘가 뭘 주로 보는 앤가 파악)\n",
    "\n",
    "# 1. 네이버 뉴스검색 api사용해서 키워드 검색\n",
    "# 2. 긁어온 뉴스에 대해 만든 엔진써서 장르분류\n",
    "# 3. 장르 매트릭스에 따라 자주 보는 장르를 위로 올림\n",
    "(predict or predict_proba, 확률기준이 더 복잡함)\n",
    "\n",
    "1. 분류됬을 때 확률 고만고만한 애들은 뒤로 보냄\n",
    "2. ~~user_pref에 따라 추천할 때 확률이 높은 애들부터 추천~~"
   ]
  },
  {
   "cell_type": "markdown",
   "metadata": {},
   "source": [
    "path = [('정치',0), ('경제',1), ('사회',2), ('세계',3), ('생활문화',4), ('IT과학',5)]"
   ]
  },
  {
   "cell_type": "code",
   "execution_count": 1,
   "metadata": {
    "collapsed": true
   },
   "outputs": [],
   "source": [
    "import MySQLdb as db\n",
    "import pandas as pd\n",
    "import numpy as np\n",
    "from naver_news_search import api_search"
   ]
  },
  {
   "cell_type": "code",
   "execution_count": 2,
   "metadata": {
    "collapsed": true
   },
   "outputs": [],
   "source": [
    "import json\n",
    "\n",
    "with open('/home/ej/github/news_config.json') as f:\n",
    "    config = json.load(f)\n",
    "\n",
    "db = db.connect(\n",
    "    config['ADDR'],\n",
    "    config['ID'],\n",
    "    config['PW'],\n",
    "    config['DB'],\n",
    "    charset='utf8'\n",
    ")"
   ]
  },
  {
   "cell_type": "code",
   "execution_count": 3,
   "metadata": {
    "collapsed": true
   },
   "outputs": [],
   "source": [
    "view = pd.read_sql('SELECT * FROM VIEW', db)\n",
    "view['count'] = 1\n",
    "article = pd.read_sql('SELECT * FROM article', db)\n",
    "\n",
    "merged = pd.merge(view, article,left_on='article_id', right_on='article_id')\n",
    "merged = merged.loc[:,['user_id','article_id','area','count']]\n",
    "\n",
    "genre_matrix = merged.pivot_table(values='count',index='user_id',columns='area',aggfunc=np.sum)"
   ]
  },
  {
   "cell_type": "code",
   "execution_count": 4,
   "metadata": {},
   "outputs": [
    {
     "data": {
      "text/html": [
       "<div>\n",
       "<style>\n",
       "    .dataframe thead tr:only-child th {\n",
       "        text-align: right;\n",
       "    }\n",
       "\n",
       "    .dataframe thead th {\n",
       "        text-align: left;\n",
       "    }\n",
       "\n",
       "    .dataframe tbody tr th {\n",
       "        vertical-align: top;\n",
       "    }\n",
       "</style>\n",
       "<table border=\"1\" class=\"dataframe\">\n",
       "  <thead>\n",
       "    <tr style=\"text-align: right;\">\n",
       "      <th>area</th>\n",
       "      <th>0</th>\n",
       "      <th>1</th>\n",
       "      <th>2</th>\n",
       "      <th>3</th>\n",
       "      <th>4</th>\n",
       "      <th>5</th>\n",
       "    </tr>\n",
       "    <tr>\n",
       "      <th>user_id</th>\n",
       "      <th></th>\n",
       "      <th></th>\n",
       "      <th></th>\n",
       "      <th></th>\n",
       "      <th></th>\n",
       "      <th></th>\n",
       "    </tr>\n",
       "  </thead>\n",
       "  <tbody>\n",
       "    <tr>\n",
       "      <th>1</th>\n",
       "      <td>13</td>\n",
       "      <td>11</td>\n",
       "      <td>6</td>\n",
       "      <td>12</td>\n",
       "      <td>11</td>\n",
       "      <td>11</td>\n",
       "    </tr>\n",
       "    <tr>\n",
       "      <th>2</th>\n",
       "      <td>9</td>\n",
       "      <td>10</td>\n",
       "      <td>12</td>\n",
       "      <td>6</td>\n",
       "      <td>7</td>\n",
       "      <td>11</td>\n",
       "    </tr>\n",
       "    <tr>\n",
       "      <th>3</th>\n",
       "      <td>7</td>\n",
       "      <td>7</td>\n",
       "      <td>13</td>\n",
       "      <td>9</td>\n",
       "      <td>14</td>\n",
       "      <td>14</td>\n",
       "    </tr>\n",
       "    <tr>\n",
       "      <th>4</th>\n",
       "      <td>17</td>\n",
       "      <td>10</td>\n",
       "      <td>13</td>\n",
       "      <td>10</td>\n",
       "      <td>12</td>\n",
       "      <td>15</td>\n",
       "    </tr>\n",
       "    <tr>\n",
       "      <th>5</th>\n",
       "      <td>11</td>\n",
       "      <td>19</td>\n",
       "      <td>12</td>\n",
       "      <td>11</td>\n",
       "      <td>14</td>\n",
       "      <td>11</td>\n",
       "    </tr>\n",
       "  </tbody>\n",
       "</table>\n",
       "</div>"
      ],
      "text/plain": [
       "area      0   1   2   3   4   5\n",
       "user_id                        \n",
       "1        13  11   6  12  11  11\n",
       "2         9  10  12   6   7  11\n",
       "3         7   7  13   9  14  14\n",
       "4        17  10  13  10  12  15\n",
       "5        11  19  12  11  14  11"
      ]
     },
     "execution_count": 4,
     "metadata": {},
     "output_type": "execute_result"
    }
   ],
   "source": [
    "genre_matrix.head()"
   ]
  },
  {
   "cell_type": "code",
   "execution_count": 5,
   "metadata": {
    "collapsed": true
   },
   "outputs": [],
   "source": [
    "data = api_search('파이썬',10)['items']"
   ]
  },
  {
   "cell_type": "code",
   "execution_count": 6,
   "metadata": {
    "collapsed": true
   },
   "outputs": [],
   "source": [
    "crawling_list = []\n",
    "for each_news in data:\n",
    "    crawling_list.append(each_news['link'])"
   ]
  },
  {
   "cell_type": "code",
   "execution_count": 7,
   "metadata": {
    "collapsed": true
   },
   "outputs": [],
   "source": [
    "def go_get_article(crawling_list):\n",
    "    import pandas as pd\n",
    "    import time\n",
    "    from bs4 import BeautifulSoup\n",
    "    import requests\n",
    "\n",
    "    article_list = []\n",
    "\n",
    "    for idx, val in enumerate(crawling_list):\n",
    "        html = val\n",
    "        response = requests.get(html)\n",
    "        web_elem = BeautifulSoup(response.content, 'html.parser')\n",
    "        p_tags = web_elem.find_all('p')\n",
    "\n",
    "        article = ''\n",
    "\n",
    "        for each in p_tags:\n",
    "            article += each.text\n",
    "\n",
    "        article_list.append(article)\n",
    "\n",
    "        if idx % 10 == 0:\n",
    "            print('{} completed, {} total'.format(idx + 1, len(crawling_list)))\n",
    "\n",
    "    return article_list"
   ]
  },
  {
   "cell_type": "code",
   "execution_count": 8,
   "metadata": {
    "scrolled": true
   },
   "outputs": [
    {
     "name": "stdout",
     "output_type": "stream",
     "text": [
      "1 completed, 10 total\n"
     ]
    }
   ],
   "source": [
    "tmp = go_get_article(crawling_list)"
   ]
  },
  {
   "cell_type": "code",
   "execution_count": 9,
   "metadata": {
    "collapsed": true
   },
   "outputs": [],
   "source": [
    "tmp = [each.split('.') for each in tmp]"
   ]
  },
  {
   "cell_type": "code",
   "execution_count": 10,
   "metadata": {
    "collapsed": true
   },
   "outputs": [],
   "source": [
    "def trimming(articles):\n",
    "    import re\n",
    "\n",
    "    is_email = []\n",
    "    for each in articles:\n",
    "        tmp = re.findall('[^@]+@[^@]+\\.[^@]+', each)\n",
    "        is_email.append(tmp)\n",
    "\n",
    "    is_email = [True if len(each) != 0 else False for each in is_email]\n",
    "    upper_bound = len(\n",
    "        is_email) - 2 - is_email[::-1].index(True) if True in is_email else len(is_email) - 1\n",
    "\n",
    "    articles = [articles[idx] if not is_email[idx]\n",
    "                else '' for idx in range(0, upper_bound)]\n",
    "\n",
    "    # 2.\n",
    "    for idx, val in enumerate(articles):\n",
    "        converted = re.sub('[^가-힣0-9a-zA-Z.\\\\s]', ' ', val)\n",
    "        articles[idx] = converted\n",
    "\n",
    "    # 3.\n",
    "    articles = [each for each in articles if each != '']\n",
    "\n",
    "    return articles"
   ]
  },
  {
   "cell_type": "code",
   "execution_count": 11,
   "metadata": {
    "collapsed": true
   },
   "outputs": [],
   "source": [
    "tmp = [''.join(trimming(each)) for each in tmp]"
   ]
  },
  {
   "cell_type": "code",
   "execution_count": 3,
   "metadata": {
    "collapsed": true
   },
   "outputs": [],
   "source": [
    "import pickle\n",
    "from konlpy.tag import Twitter"
   ]
  },
  {
   "cell_type": "code",
   "execution_count": 5,
   "metadata": {
    "collapsed": true
   },
   "outputs": [],
   "source": [
    "pos_tagger = Twitter()\n",
    "def tokenize_pos(doc):\n",
    "    return [\"/\".join(t) for t in pos_tagger.pos(doc)]\n",
    "model = pickle.load(open('dataset/twitter-tfidf-mulnb.pkl','rb'))"
   ]
  },
  {
   "cell_type": "markdown",
   "metadata": {},
   "source": [
    "# 확률이 전부 고만고만한 애들은 제외"
   ]
  },
  {
   "cell_type": "code",
   "execution_count": 13,
   "metadata": {
    "collapsed": true
   },
   "outputs": [],
   "source": [
    "news_content = pd.DataFrame(columns=['content'])\n",
    "news_content['content'] = pd.Series(tmp)"
   ]
  },
  {
   "cell_type": "code",
   "execution_count": 14,
   "metadata": {},
   "outputs": [
    {
     "data": {
      "text/html": [
       "<div>\n",
       "<style>\n",
       "    .dataframe thead tr:only-child th {\n",
       "        text-align: right;\n",
       "    }\n",
       "\n",
       "    .dataframe thead th {\n",
       "        text-align: left;\n",
       "    }\n",
       "\n",
       "    .dataframe tbody tr th {\n",
       "        vertical-align: top;\n",
       "    }\n",
       "</style>\n",
       "<table border=\"1\" class=\"dataframe\">\n",
       "  <thead>\n",
       "    <tr style=\"text-align: right;\">\n",
       "      <th></th>\n",
       "      <th>content</th>\n",
       "    </tr>\n",
       "  </thead>\n",
       "  <tbody>\n",
       "    <tr>\n",
       "      <th>0</th>\n",
       "      <td>4                     ...</td>\n",
       "    </tr>\n",
       "    <tr>\n",
       "      <th>1</th>\n",
       "      <td>\\n해당 언론사가 채널 주요 뉴스로직접 선정한 기사입니다\\n채널 안내\\n닫기\\n설정...</td>\n",
       "    </tr>\n",
       "    <tr>\n",
       "      <th>2</th>\n",
       "      <td>사용중인 브라우저의 쿠키가 차단되어 있을 경우 백서를 다운로드 받을 수 없습니다 브...</td>\n",
       "    </tr>\n",
       "    <tr>\n",
       "      <th>3</th>\n",
       "      <td>2 30여 년째 주인 찾지 못한 안면도 개발 사업 충남일보 최솔 기자  1조 원대 ...</td>\n",
       "    </tr>\n",
       "    <tr>\n",
       "      <th>4</th>\n",
       "      <td></td>\n",
       "    </tr>\n",
       "  </tbody>\n",
       "</table>\n",
       "</div>"
      ],
      "text/plain": [
       "                                             content\n",
       "0                          4                     ...\n",
       "1  \\n해당 언론사가 채널 주요 뉴스로직접 선정한 기사입니다\\n채널 안내\\n닫기\\n설정...\n",
       "2  사용중인 브라우저의 쿠키가 차단되어 있을 경우 백서를 다운로드 받을 수 없습니다 브...\n",
       "3  2 30여 년째 주인 찾지 못한 안면도 개발 사업 충남일보 최솔 기자  1조 원대 ...\n",
       "4                                                   "
      ]
     },
     "execution_count": 14,
     "metadata": {},
     "output_type": "execute_result"
    }
   ],
   "source": [
    "news_content.head()"
   ]
  },
  {
   "cell_type": "code",
   "execution_count": 46,
   "metadata": {
    "collapsed": true
   },
   "outputs": [],
   "source": [
    "X_test = pd.Series(tmp)"
   ]
  },
  {
   "cell_type": "code",
   "execution_count": 47,
   "metadata": {},
   "outputs": [
    {
     "name": "stdout",
     "output_type": "stream",
     "text": [
      "Wall time: 260 ms\n"
     ]
    }
   ],
   "source": [
    "%%time\n",
    "y_pred = model.predict(X_test)"
   ]
  },
  {
   "cell_type": "code",
   "execution_count": 48,
   "metadata": {},
   "outputs": [
    {
     "name": "stdout",
     "output_type": "stream",
     "text": [
      "Wall time: 201 ms\n"
     ]
    }
   ],
   "source": [
    "%%time\n",
    "y_prob = model.predict_proba(X_test)"
   ]
  },
  {
   "cell_type": "code",
   "execution_count": 18,
   "metadata": {},
   "outputs": [
    {
     "data": {
      "text/plain": [
       "array([5, 4, 5, 1, 5, 4, 4, 5, 5, 5], dtype=int64)"
      ]
     },
     "execution_count": 18,
     "metadata": {},
     "output_type": "execute_result"
    }
   ],
   "source": [
    "y_pred"
   ]
  },
  {
   "cell_type": "code",
   "execution_count": 20,
   "metadata": {},
   "outputs": [
    {
     "data": {
      "text/plain": [
       "array([3, 1, 5, 6, 0], dtype=int64)"
      ]
     },
     "execution_count": 20,
     "metadata": {},
     "output_type": "execute_result"
    }
   ],
   "source": [
    "# 키워드가 파이썬인데 사회로 분류된 애들\n",
    "y_pred.argsort()[:5]"
   ]
  },
  {
   "cell_type": "code",
   "execution_count": 21,
   "metadata": {},
   "outputs": [
    {
     "data": {
      "text/plain": [
       "area\n",
       "0    13\n",
       "1    11\n",
       "2     6\n",
       "3    12\n",
       "4    11\n",
       "5    11\n",
       "Name: 1, dtype: int64"
      ]
     },
     "execution_count": 21,
     "metadata": {},
     "output_type": "execute_result"
    }
   ],
   "source": [
    "genre_matrix.loc[1]"
   ]
  },
  {
   "cell_type": "code",
   "execution_count": 22,
   "metadata": {},
   "outputs": [
    {
     "data": {
      "text/html": [
       "<div>\n",
       "<style>\n",
       "    .dataframe thead tr:only-child th {\n",
       "        text-align: right;\n",
       "    }\n",
       "\n",
       "    .dataframe thead th {\n",
       "        text-align: left;\n",
       "    }\n",
       "\n",
       "    .dataframe tbody tr th {\n",
       "        vertical-align: top;\n",
       "    }\n",
       "</style>\n",
       "<table border=\"1\" class=\"dataframe\">\n",
       "  <thead>\n",
       "    <tr style=\"text-align: right;\">\n",
       "      <th></th>\n",
       "      <th>0</th>\n",
       "      <th>1</th>\n",
       "      <th>2</th>\n",
       "      <th>3</th>\n",
       "      <th>4</th>\n",
       "      <th>5</th>\n",
       "    </tr>\n",
       "  </thead>\n",
       "  <tbody>\n",
       "    <tr>\n",
       "      <th>0</th>\n",
       "      <td>0.003900</td>\n",
       "      <td>0.155258</td>\n",
       "      <td>0.020840</td>\n",
       "      <td>0.161781</td>\n",
       "      <td>0.239972</td>\n",
       "      <td>0.418248</td>\n",
       "    </tr>\n",
       "    <tr>\n",
       "      <th>1</th>\n",
       "      <td>0.014827</td>\n",
       "      <td>0.128224</td>\n",
       "      <td>0.213606</td>\n",
       "      <td>0.008843</td>\n",
       "      <td>0.459370</td>\n",
       "      <td>0.175130</td>\n",
       "    </tr>\n",
       "    <tr>\n",
       "      <th>2</th>\n",
       "      <td>0.003605</td>\n",
       "      <td>0.002916</td>\n",
       "      <td>0.011103</td>\n",
       "      <td>0.006945</td>\n",
       "      <td>0.008815</td>\n",
       "      <td>0.966616</td>\n",
       "    </tr>\n",
       "    <tr>\n",
       "      <th>3</th>\n",
       "      <td>0.000111</td>\n",
       "      <td>0.993156</td>\n",
       "      <td>0.003275</td>\n",
       "      <td>0.000246</td>\n",
       "      <td>0.000800</td>\n",
       "      <td>0.002411</td>\n",
       "    </tr>\n",
       "    <tr>\n",
       "      <th>4</th>\n",
       "      <td>0.168211</td>\n",
       "      <td>0.158232</td>\n",
       "      <td>0.169874</td>\n",
       "      <td>0.165835</td>\n",
       "      <td>0.167261</td>\n",
       "      <td>0.170587</td>\n",
       "    </tr>\n",
       "  </tbody>\n",
       "</table>\n",
       "</div>"
      ],
      "text/plain": [
       "          0         1         2         3         4         5\n",
       "0  0.003900  0.155258  0.020840  0.161781  0.239972  0.418248\n",
       "1  0.014827  0.128224  0.213606  0.008843  0.459370  0.175130\n",
       "2  0.003605  0.002916  0.011103  0.006945  0.008815  0.966616\n",
       "3  0.000111  0.993156  0.003275  0.000246  0.000800  0.002411\n",
       "4  0.168211  0.158232  0.169874  0.165835  0.167261  0.170587"
      ]
     },
     "execution_count": 22,
     "metadata": {},
     "output_type": "execute_result"
    }
   ],
   "source": [
    "pd.DataFrame(y_prob).head()"
   ]
  },
  {
   "cell_type": "code",
   "execution_count": 23,
   "metadata": {},
   "outputs": [
    {
     "data": {
      "text/plain": [
       "Int64Index([4, 1, 5, 6, 0, 2, 9, 3, 8, 7], dtype='int64')"
      ]
     },
     "execution_count": 23,
     "metadata": {},
     "output_type": "execute_result"
    }
   ],
   "source": [
    "pd.DataFrame(y_prob).sort_values(by=[0], axis=0, ascending=False).index"
   ]
  },
  {
   "cell_type": "code",
   "execution_count": 24,
   "metadata": {},
   "outputs": [
    {
     "data": {
      "text/html": [
       "<div>\n",
       "<style>\n",
       "    .dataframe thead tr:only-child th {\n",
       "        text-align: right;\n",
       "    }\n",
       "\n",
       "    .dataframe thead th {\n",
       "        text-align: left;\n",
       "    }\n",
       "\n",
       "    .dataframe tbody tr th {\n",
       "        vertical-align: top;\n",
       "    }\n",
       "</style>\n",
       "<table border=\"1\" class=\"dataframe\">\n",
       "  <thead>\n",
       "    <tr style=\"text-align: right;\">\n",
       "      <th></th>\n",
       "      <th>0</th>\n",
       "      <th>1</th>\n",
       "      <th>2</th>\n",
       "      <th>3</th>\n",
       "      <th>4</th>\n",
       "      <th>5</th>\n",
       "    </tr>\n",
       "  </thead>\n",
       "  <tbody>\n",
       "    <tr>\n",
       "      <th>4</th>\n",
       "      <td>0.168211</td>\n",
       "      <td>0.158232</td>\n",
       "      <td>0.169874</td>\n",
       "      <td>0.165835</td>\n",
       "      <td>0.167261</td>\n",
       "      <td>0.170587</td>\n",
       "    </tr>\n",
       "    <tr>\n",
       "      <th>1</th>\n",
       "      <td>0.014827</td>\n",
       "      <td>0.128224</td>\n",
       "      <td>0.213606</td>\n",
       "      <td>0.008843</td>\n",
       "      <td>0.459370</td>\n",
       "      <td>0.175130</td>\n",
       "    </tr>\n",
       "    <tr>\n",
       "      <th>5</th>\n",
       "      <td>0.014827</td>\n",
       "      <td>0.128224</td>\n",
       "      <td>0.213606</td>\n",
       "      <td>0.008843</td>\n",
       "      <td>0.459370</td>\n",
       "      <td>0.175130</td>\n",
       "    </tr>\n",
       "    <tr>\n",
       "      <th>6</th>\n",
       "      <td>0.014827</td>\n",
       "      <td>0.128224</td>\n",
       "      <td>0.213606</td>\n",
       "      <td>0.008843</td>\n",
       "      <td>0.459370</td>\n",
       "      <td>0.175130</td>\n",
       "    </tr>\n",
       "    <tr>\n",
       "      <th>0</th>\n",
       "      <td>0.003900</td>\n",
       "      <td>0.155258</td>\n",
       "      <td>0.020840</td>\n",
       "      <td>0.161781</td>\n",
       "      <td>0.239972</td>\n",
       "      <td>0.418248</td>\n",
       "    </tr>\n",
       "    <tr>\n",
       "      <th>2</th>\n",
       "      <td>0.003605</td>\n",
       "      <td>0.002916</td>\n",
       "      <td>0.011103</td>\n",
       "      <td>0.006945</td>\n",
       "      <td>0.008815</td>\n",
       "      <td>0.966616</td>\n",
       "    </tr>\n",
       "    <tr>\n",
       "      <th>9</th>\n",
       "      <td>0.000406</td>\n",
       "      <td>0.265882</td>\n",
       "      <td>0.096839</td>\n",
       "      <td>0.003141</td>\n",
       "      <td>0.008809</td>\n",
       "      <td>0.624924</td>\n",
       "    </tr>\n",
       "    <tr>\n",
       "      <th>3</th>\n",
       "      <td>0.000111</td>\n",
       "      <td>0.993156</td>\n",
       "      <td>0.003275</td>\n",
       "      <td>0.000246</td>\n",
       "      <td>0.000800</td>\n",
       "      <td>0.002411</td>\n",
       "    </tr>\n",
       "    <tr>\n",
       "      <th>8</th>\n",
       "      <td>0.000025</td>\n",
       "      <td>0.252990</td>\n",
       "      <td>0.014094</td>\n",
       "      <td>0.002444</td>\n",
       "      <td>0.006768</td>\n",
       "      <td>0.723680</td>\n",
       "    </tr>\n",
       "    <tr>\n",
       "      <th>7</th>\n",
       "      <td>0.000017</td>\n",
       "      <td>0.005721</td>\n",
       "      <td>0.009411</td>\n",
       "      <td>0.000148</td>\n",
       "      <td>0.008772</td>\n",
       "      <td>0.975930</td>\n",
       "    </tr>\n",
       "  </tbody>\n",
       "</table>\n",
       "</div>"
      ],
      "text/plain": [
       "          0         1         2         3         4         5\n",
       "4  0.168211  0.158232  0.169874  0.165835  0.167261  0.170587\n",
       "1  0.014827  0.128224  0.213606  0.008843  0.459370  0.175130\n",
       "5  0.014827  0.128224  0.213606  0.008843  0.459370  0.175130\n",
       "6  0.014827  0.128224  0.213606  0.008843  0.459370  0.175130\n",
       "0  0.003900  0.155258  0.020840  0.161781  0.239972  0.418248\n",
       "2  0.003605  0.002916  0.011103  0.006945  0.008815  0.966616\n",
       "9  0.000406  0.265882  0.096839  0.003141  0.008809  0.624924\n",
       "3  0.000111  0.993156  0.003275  0.000246  0.000800  0.002411\n",
       "8  0.000025  0.252990  0.014094  0.002444  0.006768  0.723680\n",
       "7  0.000017  0.005721  0.009411  0.000148  0.008772  0.975930"
      ]
     },
     "execution_count": 24,
     "metadata": {},
     "output_type": "execute_result"
    }
   ],
   "source": [
    "pd.DataFrame(y_prob).sort_values(by=[0], axis=0, ascending=False)"
   ]
  },
  {
   "cell_type": "code",
   "execution_count": null,
   "metadata": {
    "collapsed": true
   },
   "outputs": [],
   "source": []
  },
  {
   "cell_type": "code",
   "execution_count": 41,
   "metadata": {
    "collapsed": true
   },
   "outputs": [],
   "source": [
    "def news_rank(user_id, genre_matrix, y_pred, y_prob):\n",
    "    user_pref = genre_matrix.loc[user_id].sort_values(ascending=False).index\n",
    "\n",
    "    print(user_pref, '\\n')\n",
    "\n",
    "    article = []\n",
    "\n",
    "    for area in range(0, 6):\n",
    "        each_area = np.argwhere(y_pred == area)\n",
    "        each_area = each_area.reshape(1, len(each_area))\n",
    "        article.append(each_area)\n",
    "\n",
    "    prob_df = pd.DataFrame(y_prob)\n",
    "    sorted_article = []\n",
    "\n",
    "    print('sorted by probability')\n",
    "\n",
    "    for area, each in enumerate(article):\n",
    "        sorter = prob_df.loc[each[0], :]\n",
    "        sorter.sort_values(by=area, axis=0, inplace=True, ascending=False)\n",
    "        sorted_article.append(list(sorter.index))\n",
    "\n",
    "    for area in user_pref:\n",
    "        print(area, sorted_article[area])\n",
    "\n",
    "    news_rank = []\n",
    "    for pref_area in user_pref:\n",
    "        for each_article in sorted_article[pref_area]:\n",
    "            news_rank.append(each_article)\n",
    "\n",
    "    return news_rank"
   ]
  },
  {
   "cell_type": "code",
   "execution_count": 44,
   "metadata": {},
   "outputs": [
    {
     "name": "stdout",
     "output_type": "stream",
     "text": [
      "Int64Index([0, 3, 5, 4, 1, 2], dtype='int64', name='area') \n",
      "\n",
      "sorted by probability\n",
      "0 []\n",
      "3 []\n",
      "5 [7, 2, 8, 9, 0, 4]\n",
      "4 [1, 5, 6]\n",
      "1 [3]\n",
      "2 []\n"
     ]
    }
   ],
   "source": [
    "ranked_news = news_rank(1,genre_matrix, y_pred,y_prob)"
   ]
  },
  {
   "cell_type": "code",
   "execution_count": 45,
   "metadata": {},
   "outputs": [
    {
     "name": "stdout",
     "output_type": "stream",
     "text": [
      "http://www.getnews.co.kr/news/articleView.html?idxno=62918\n",
      "http://www.itworld.co.kr/techlibrary/108969\n",
      "http://www.metroseoul.co.kr/news/newsview?newscd=2018041500072\n",
      "http://edu.donga.com/?p=article&ps=view&at_no=20180413175338210274\n",
      "http://www.readersnews.com/news/articleView.html?idxno=79191\n",
      "http://www.thebell.co.kr/front/free/contents/news/article_view.asp?key=201804170100033220002051\n",
      "http://news.naver.com/main/read.nhn?mode=LSD&mid=sec&sid1=101&oid=030&aid=0002700203\n",
      "http://news.naver.com/main/read.nhn?mode=LSD&mid=sec&sid1=105&oid=215&aid=0000623309\n",
      "http://news.naver.com/main/read.nhn?mode=LSD&mid=sec&sid1=102&oid=020&aid=0003141011\n",
      "http://www.chungnamilbo.com/news/articleView.html?idxno=444192\n"
     ]
    }
   ],
   "source": [
    "# 뉴스랭크에 따른 검색 추천 리스트\n",
    "for each in ranked_news:\n",
    "    print(crawling_list[each])"
   ]
  },
  {
   "cell_type": "code",
   "execution_count": 2,
   "metadata": {
    "collapsed": true
   },
   "outputs": [],
   "source": [
    "from news_ranker import *"
   ]
  },
  {
   "cell_type": "code",
   "execution_count": 3,
   "metadata": {
    "scrolled": true
   },
   "outputs": [
    {
     "name": "stdout",
     "output_type": "stream",
     "text": [
      "1 completed, 10 total\n",
      "1 's preference list =  Int64Index([0, 3, 5, 4, 1, 2], dtype='int64', name='area') \n",
      "\n",
      "sorted by probability\n",
      "0 [4]\n",
      "3 []\n",
      "5 [7, 2, 8, 9, 0]\n",
      "4 [1, 5, 6]\n",
      "1 [3]\n",
      "2 []\n"
     ]
    },
    {
     "data": {
      "text/plain": [
       "['http://www.thebell.co.kr/front/free/contents/news/article_view.asp?key=201804170100033220002051',\n",
       " 'http://www.getnews.co.kr/news/articleView.html?idxno=62918',\n",
       " 'http://www.itworld.co.kr/techlibrary/108969',\n",
       " 'http://www.metroseoul.co.kr/news/newsview?newscd=2018041500072',\n",
       " 'http://edu.donga.com/?p=article&ps=view&at_no=20180413175338210274',\n",
       " 'http://www.readersnews.com/news/articleView.html?idxno=79191',\n",
       " 'http://news.naver.com/main/read.nhn?mode=LSD&mid=sec&sid1=101&oid=030&aid=0002700203',\n",
       " 'http://news.naver.com/main/read.nhn?mode=LSD&mid=sec&sid1=105&oid=215&aid=0000623309',\n",
       " 'http://news.naver.com/main/read.nhn?mode=LSD&mid=sec&sid1=102&oid=020&aid=0003141011',\n",
       " 'http://www.chungnamilbo.com/news/articleView.html?idxno=444192']"
      ]
     },
     "execution_count": 3,
     "metadata": {},
     "output_type": "execute_result"
    }
   ],
   "source": [
    "news_rank_recommend(user_id = 1,keyword = '파이썬',how_many = 10)"
   ]
  },
  {
   "cell_type": "code",
   "execution_count": null,
   "metadata": {
    "collapsed": true
   },
   "outputs": [],
   "source": []
  }
 ],
 "metadata": {
  "kernelspec": {
   "display_name": "Python 3",
   "language": "python",
   "name": "python3"
  },
  "language_info": {
   "codemirror_mode": {
    "name": "ipython",
    "version": 3
   },
   "file_extension": ".py",
   "mimetype": "text/x-python",
   "name": "python",
   "nbconvert_exporter": "python",
   "pygments_lexer": "ipython3",
   "version": "3.6.3"
  }
 },
 "nbformat": 4,
 "nbformat_minor": 2
}
