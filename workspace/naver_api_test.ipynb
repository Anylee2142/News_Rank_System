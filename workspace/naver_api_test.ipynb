{
 "cells": [
  {
   "cell_type": "code",
   "execution_count": 87,
   "metadata": {},
   "outputs": [],
   "source": [
    "import os\n",
    "import sys\n",
    "import urllib.request\n",
    "import json\n",
    "\n",
    "with open('../naver_api_info.txt', 'r') as f:\n",
    "    client_id = str(f.readline().replace('\\n',''))\n",
    "    client_secret = str(f.readline().replace('\\n',''))\n",
    "    \n",
    "encText = urllib.parse.quote(\"Google\")\n",
    "encDisp = urllib.parse.quote(\"100\")\n",
    "url = \"https://openapi.naver.com/v1/search/news?query={}&display={}\".format(encText, encDisp)\n",
    "# url = \"https://openapi.naver.com/v1/search/blog.xml?query=\" + encText # xml 결과\n",
    "request = urllib.request.Request(url)\n",
    "request.add_header(\"X-Naver-Client-Id\", client_id)\n",
    "request.add_header(\"X-Naver-Client-Secret\", client_secret)\n",
    "response = urllib.request.urlopen(request)\n",
    "rescode = response.getcode()\n",
    "if(rescode == 200):\n",
    "    response_body = response.read()\n",
    "else:\n",
    "    print(\"Error Code:\" + rescode)"
   ]
  },
  {
   "cell_type": "code",
   "execution_count": 88,
   "metadata": {},
   "outputs": [],
   "source": [
    "data = json.loads(response_body.decode('utf-8'))"
   ]
  },
  {
   "cell_type": "code",
   "execution_count": 89,
   "metadata": {},
   "outputs": [
    {
     "data": {
      "text/plain": [
       "100"
      ]
     },
     "execution_count": 89,
     "metadata": {},
     "output_type": "execute_result"
    }
   ],
   "source": [
    "data['display']"
   ]
  },
  {
   "cell_type": "code",
   "execution_count": 90,
   "metadata": {},
   "outputs": [],
   "source": [
    "dic = data['items']"
   ]
  },
  {
   "cell_type": "code",
   "execution_count": 92,
   "metadata": {},
   "outputs": [
    {
     "data": {
      "text/plain": [
       "{'description': \"카림 템사마니 구글 아태지역 총괄 사장이 12일(현지시각) 싱가포르에서 열린 '그로윙 위드 구글(Growing with <b>Google</b>)' 기자간담회에서 '디지털 기술과 비즈니스의 성장'을 주제로 발표하고 있다. (제공: 구글코리아)\",\n",
       " 'link': 'http://www.newscj.com/news/articleView.html?idxno=511377',\n",
       " 'originallink': 'http://www.newscj.com/news/articleView.html?idxno=511377',\n",
       " 'pubDate': 'Thu, 12 Apr 2018 16:14:00 +0900',\n",
       " 'title': \"'디지털 기술과 비즈니스 성장' 발표하는 카림 템사마니\"}"
      ]
     },
     "execution_count": 92,
     "metadata": {},
     "output_type": "execute_result"
    }
   ],
   "source": [
    "dic[0]"
   ]
  },
  {
   "cell_type": "code",
   "execution_count": 91,
   "metadata": {},
   "outputs": [
    {
     "name": "stdout",
     "output_type": "stream",
     "text": [
      "http://www.newscj.com/news/articleView.html?idxno=511377\n",
      "http://www.newscj.com/news/articleView.html?idxno=511376\n",
      "http://www.mediapen.com/news/view/346986\n",
      "http://www.sommeliertimes.com/news/articleView.html?idxno=8299\n",
      "http://news.naver.com/main/read.nhn?mode=LSD&mid=sec&sid1=105&oid=366&aid=0000403626\n",
      "http://www.jemin.com/news/articleView.html?idxno=510233\n",
      "http://news.naver.com/main/read.nhn?mode=LSD&mid=sec&sid1=004&oid=044&aid=0000199223\n",
      "http://www.kinews.net/news/articleView.html?idxno=118675\n",
      "http://www.boannews.com/media/view.asp?idx=68359&kind=1\n",
      "http://www.meconomynews.com/news/articleView.html?idxno=12869\n",
      "http://news.naver.com/main/read.nhn?mode=LSD&mid=sec&sid1=004&oid=030&aid=0002698666\n",
      "http://www.newscj.com/news/articleView.html?idxno=511269\n",
      "http://www.newscj.com/news/articleView.html?idxno=511270\n",
      "http://news.naver.com/main/read.nhn?mode=LSD&mid=sec&sid1=104&oid=001&aid=0010020157\n",
      "http://news.naver.com/main/read.nhn?mode=LSD&mid=sec&sid1=104&oid=001&aid=0010019525\n",
      "http://www.ilyoseoul.co.kr/news/articleView.html?idxno=229787\n",
      "http://news.naver.com/main/read.nhn?mode=LSD&mid=sec&sid1=101&oid=003&aid=0008539204\n",
      "http://www.ggilbo.com/news/articleView.html?idxno=459321\n",
      "https://www.ddanzi.com/ddanziNews/508515645\n",
      "http://www.dandinews.com/news/articleView.html?idxno=3654\n",
      "http://www.ifs.or.kr/bbs/board.php?bo_table=news_board&wr_id=1616\n",
      "http://www.petzzi.com/bbs/board.php?bo_table=news&wr_id=4246 url\n",
      "http://news.naver.com/main/read.nhn?mode=LSD&mid=sec&sid1=100&oid=023&aid=0003364654\n",
      "http://news.naver.com/main/read.nhn?mode=LSD&mid=sec&sid1=104&oid=001&aid=0010016875\n",
      "http://sports.news.naver.com/esports/news/read.nhn?oid=442&aid=0000077115\n",
      "http://news.naver.com/main/read.nhn?mode=LSD&mid=sec&sid1=100&oid=056&aid=0010564785\n",
      "http://news.naver.com/main/read.nhn?mode=LSD&mid=sec&sid1=100&oid=001&aid=0010016707\n",
      "http://koreajoongangdaily.joins.com/news/article/article.aspx?aid=3046767\n",
      "http://www.ggilbo.com/news/articleView.html?idxno=459018\n",
      "http://slownews.kr/69174\n",
      "http://www.getnews.co.kr/news/articleView.html?idxno=61477\n",
      "http://www.speconomy.com/news/articleView.html?idxno=110222\n",
      "http://news.naver.com/main/read.nhn?mode=LSD&mid=sec&sid1=104&oid=047&aid=0002185350\n",
      "http://www.tbs.seoul.kr/news/bunya.do?method=daum_html&typ_800=T&seq_800=10274783\n",
      "http://news.naver.com/main/read.nhn?mode=LSD&mid=sec&sid1=105&oid=020&aid=0003139643\n",
      "http://www.g-enews.com/ko-kr/news/article/news_all/201804101031123912d6eb469fd3_1/article.html\n",
      "http://www.ilovepc.co.kr/news/articleView.html?idxno=18937\n",
      "http://sports.news.naver.com/general/news/read.nhn?oid=568&aid=0000000352\n",
      "http://news.naver.com/main/read.nhn?mode=LSD&mid=sec&sid1=101&oid=016&aid=0001378109\n",
      "http://koreajoongangdaily.joins.com/news/article/article.aspx?aid=3046699\n",
      "http://www.ggilbo.com/news/articleView.html?idxno=458596\n",
      "http://eng.ajunews.com/view/20180409173027779\n",
      "http://sports.news.naver.com/kbaseball/news/read.nhn?oid=529&aid=0000022310\n",
      "http://news.naver.com/main/read.nhn?mode=LSD&mid=sec&sid1=004&oid=009&aid=0004130201\n",
      "http://eng.ajunews.com/view/20180409111453390\n",
      "http://news.naver.com/main/read.nhn?mode=LSD&mid=sec&sid1=105&oid=030&aid=0002697675\n",
      "http://news.naver.com/main/read.nhn?mode=LSD&mid=sec&sid1=104&oid=077&aid=0004094895\n",
      "http://news.naver.com/main/read.nhn?mode=LSD&mid=sec&sid1=104&oid=001&aid=0010012659\n",
      "http://www.cctvnews.co.kr/news/articleView.html?idxno=81874\n",
      "http://www.namdonews.com/news/articleView.html?idxno=469404\n",
      "http://www.e2news.com/news/articleView.html?idxno=107757\n",
      "http://www.itnews.or.kr/?p=26265\n",
      "http://www.lec.co.kr/news/articleView.html?idxno=47257\n",
      "http://news.naver.com/main/read.nhn?mode=LSD&mid=sec&sid1=104&oid=044&aid=0000199094\n",
      "http://www.betanews.net:8080/article/836255.html\n",
      "http://news.naver.com/main/read.nhn?mode=LSD&mid=sec&sid1=104&oid=077&aid=0004093844\n",
      "http://news.naver.com/main/read.nhn?mode=LSD&mid=sec&sid1=104&oid=077&aid=0004093845\n",
      "http://www.hg-times.com/news/articleView.html?idxno=180458\n",
      "http://www.ekn.kr/news/article.html?no=354429\n",
      "http://news.naver.com/main/read.nhn?mode=LSD&mid=sec&sid1=104&oid=091&aid=0006457654\n",
      "http://news.naver.com/main/read.nhn?mode=LSD&mid=sec&sid1=104&oid=091&aid=0006457650\n",
      "http://news.naver.com/main/read.nhn?mode=LSD&mid=sec&sid1=104&oid=091&aid=0006457651\n",
      "http://news.naver.com/main/read.nhn?mode=LSD&mid=sec&sid1=104&oid=091&aid=0006457652\n",
      "http://news.naver.com/main/read.nhn?mode=LSD&mid=sec&sid1=104&oid=091&aid=0006457653\n",
      "http://news.naver.com/main/read.nhn?mode=LSD&mid=sec&sid1=104&oid=091&aid=0006457646\n",
      "http://news.naver.com/main/read.nhn?mode=LSD&mid=sec&sid1=104&oid=091&aid=0006457647\n",
      "http://news.naver.com/main/read.nhn?mode=LSD&mid=sec&sid1=104&oid=091&aid=0006457648\n",
      "http://news.naver.com/main/read.nhn?mode=LSD&mid=sec&sid1=104&oid=091&aid=0006457649\n",
      "http://news.naver.com/main/read.nhn?mode=LSD&mid=sec&sid1=105&oid=020&aid=0003139093\n",
      "http://news.naver.com/main/read.nhn?mode=LSD&mid=sec&sid1=004&oid=016&aid=0001376972\n",
      "http://news.naver.com/main/read.nhn?mode=LSD&mid=sec&sid1=102&oid=025&aid=0002811216\n",
      "http://www.kbench.com/?q=node/186918\n",
      "http://www.ciokorea.com/news/37841\n",
      "http://www.cctvnews.co.kr/news/articleView.html?idxno=81814\n",
      "http://www.koreaittimes.com/news/articleView.html?idxno=81930\n",
      "http://news.naver.com/main/read.nhn?mode=LSD&mid=sec&sid1=101&oid=009&aid=0004128708\n",
      "http://www.ggilbo.com/news/articleView.html?idxno=457859\n",
      "http://www.speconomy.com/news/articleView.html?idxno=109759\n",
      "http://www.bosa.co.kr/news/articleView.html?idxno=2081017\n",
      "http://news.naver.com/main/read.nhn?mode=LSD&mid=sec&sid1=104&oid=001&aid=0010004945\n",
      "http://koreajoongangdaily.joins.com/news/article/article.aspx?aid=3046501\n",
      "http://koreajoongangdaily.joins.com/news/article/article.aspx?aid=3046494\n",
      "http://koreajoongangdaily.joins.com/news/article/article.aspx?aid=3046493\n",
      "http://news.naver.com/main/read.nhn?mode=LSD&mid=sec&sid1=104&oid=044&aid=0000199006\n",
      "http://www.datanet.co.kr/news/articleView.html?idxno=121401\n",
      "http://www.ggilbo.com/news/articleView.html?idxno=457477\n",
      "http://www.hkbs.co.kr/news/articleView.html?idxno=462941\n",
      "http://news.naver.com/main/read.nhn?mode=LSD&mid=sec&sid1=104&oid=020&aid=0003138543\n",
      "http://news.naver.com/main/read.nhn?mode=LSD&mid=sec&sid1=004&oid=044&aid=0000198993\n",
      "https://www.huffingtonpost.kr/entry/story_kr_5ac2f953e4b0c247045b7485?utm_id=naver\n",
      "http://www.newspim.com/news/view/20180404000199\n",
      "http://www.hellot.net/new_hellot/magazine/magazine_read.html?code=202&sub=004&idx=40252\n",
      "http://www.kbench.com/?q=node/186820\n",
      "http://news.naver.com/main/read.nhn?mode=LSD&mid=sec&sid1=105&oid=293&aid=0000021847\n",
      "http://www.hellot.net/new_hellot/magazine/magazine_read.html?code=202&sub=004&idx=40248\n",
      "http://news.naver.com/main/read.nhn?mode=LSD&mid=sec&sid1=101&oid=008&aid=0004033337\n",
      "http://techm.kr/bbs/board.php?bo_table=article&wr_id=4826\n",
      "http://www.cnet.co.kr/view/100162913\n",
      "http://news.naver.com/main/read.nhn?mode=LSD&mid=sec&sid1=102&oid=047&aid=0002184637\n",
      "http://news.naver.com/main/read.nhn?mode=LSD&mid=sec&sid1=101&oid=020&aid=0003138298\n"
     ]
    }
   ],
   "source": [
    "for each_news in dic:\n",
    "    print(each_news['link'])"
   ]
  },
  {
   "cell_type": "code",
   "execution_count": null,
   "metadata": {},
   "outputs": [],
   "source": []
  }
 ],
 "metadata": {
  "kernelspec": {
   "display_name": "Python 3",
   "language": "python",
   "name": "python3"
  },
  "language_info": {
   "codemirror_mode": {
    "name": "ipython",
    "version": 3
   },
   "file_extension": ".py",
   "mimetype": "text/x-python",
   "name": "python",
   "nbconvert_exporter": "python",
   "pygments_lexer": "ipython3",
   "version": "3.6.3"
  }
 },
 "nbformat": 4,
 "nbformat_minor": 2
}
