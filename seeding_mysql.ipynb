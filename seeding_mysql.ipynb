{
 "cells": [
  {
   "cell_type": "markdown",
   "metadata": {},
   "source": [
    "# seed generator = Faker"
   ]
  },
  {
   "cell_type": "markdown",
   "metadata": {},
   "source": [
    "MySQL Workbench\n",
    "\n",
    "If you want to avoid writing sql, you can also do it in MySQL Workbench by right clicking on the table, choose \"Alter Table ...\" in the menu.\n",
    "\n",
    "When the table structure view opens, go to tab \"Options\" (on the lower bottom of the view), and set \"Auto Increment\" field to the value of the next autoincrement number.\n",
    "\n",
    "Don't forget to hit \"Apply\" when you are done with all changes."
   ]
  },
  {
   "cell_type": "code",
   "execution_count": 1,
   "metadata": {},
   "outputs": [],
   "source": [
    "import pickle as pk\n",
    "import pandas as pd"
   ]
  },
  {
   "cell_type": "code",
   "execution_count": 2,
   "metadata": {},
   "outputs": [],
   "source": [
    "import MySQLdb as db\n",
    "from faker import Faker\n",
    "fake = Faker()"
   ]
  },
  {
   "cell_type": "code",
   "execution_count": 3,
   "metadata": {},
   "outputs": [],
   "source": [
    "data = pd.read_pickle('dataset/training_set.pkl')"
   ]
  },
  {
   "cell_type": "code",
   "execution_count": 4,
   "metadata": {},
   "outputs": [],
   "source": [
    "db = db.connect(\n",
    "    '127.0.0.1',\n",
    "    'root',\n",
    "    '5555',\n",
    "    'news_rec',\n",
    "    charset='utf8'\n",
    ")"
   ]
  },
  {
   "cell_type": "code",
   "execution_count": 5,
   "metadata": {},
   "outputs": [],
   "source": [
    "# article to DB\n",
    "curs = db.cursor()\n",
    "for idx, val in data.iterrows():\n",
    "    area = val['area']\n",
    "    title = \"'{}'\".format(val['title'])\n",
    "    content = \"'{}'\".format(val['content'].replace('\\n', ''))\n",
    "    date = \"'{}'\".format(val['written_date'])\n",
    "\n",
    "    sql = 'INSERT INTO Article(area, title, content, written_date) VALUES({},{},{},{});'.format(\n",
    "        area, title, content, date)\n",
    "\n",
    "    curs.execute(sql)\n",
    "    db.commit()"
   ]
  },
  {
   "cell_type": "code",
   "execution_count": 6,
   "metadata": {},
   "outputs": [],
   "source": [
    "# Seed for User\n",
    "users = [(fake.email(), fake.password()) for _ in range(0, 200)]\n",
    "\n",
    "curs = db.cursor()\n",
    "for user in users:\n",
    "    ID = \"'{}'\".format(user[0])\n",
    "    PW = \"'{}'\".format(user[1])\n",
    "\n",
    "    sql = 'INSERT INTO User(id,pw) VALUES({},{});'.format(ID, PW)\n",
    "    curs.execute(sql)\n",
    "    db.commit()"
   ]
  },
  {
   "cell_type": "markdown",
   "metadata": {},
   "source": [
    "# View seed\n",
    "## 1. 기사는 5612개\n",
    "## 2. 유저는 200명\n",
    "## 3. 유저 한명당 기사를 개별적으로 50 ~ 100개 봤다 가정"
   ]
  },
  {
   "cell_type": "code",
   "execution_count": 7,
   "metadata": {},
   "outputs": [],
   "source": [
    "import random\n",
    "\n",
    "curs = db.cursor()\n",
    "for user_id in range(1,201):\n",
    "    # 유저가 기사를 총 몇개나 봤는지 (중복 X)\n",
    "    how_many_articles = random.randrange(50,101)\n",
    "    \n",
    "    view_article_list = set()\n",
    "    \n",
    "    \n",
    "    # 그 기사들의 ID\n",
    "    while len(view_article_list) < how_many_articles:\n",
    "        view_article_list.add(random.randrange(1,5613))\n",
    "    \n",
    "    view_article_list = list(view_article_list)\n",
    "    view_article_list = [(each,str(fake.date_time_this_year()) ) for each in view_article_list]\n",
    "    \n",
    "    for tok in view_article_list:\n",
    "        article_id = tok[0]\n",
    "        view_date = \"'{}'\".format(tok[1])\n",
    "        \n",
    "        sql = 'INSERT INTO VIEW(user_id, article_id, view_date) VALUES({},{},{})'.format(user_id, article_id, view_date)\n",
    "        curs.execute(sql)\n",
    "        db.commit()"
   ]
  },
  {
   "cell_type": "code",
   "execution_count": null,
   "metadata": {},
   "outputs": [],
   "source": []
  }
 ],
 "metadata": {
  "kernelspec": {
   "display_name": "Python 3",
   "language": "python",
   "name": "python3"
  },
  "language_info": {
   "codemirror_mode": {
    "name": "ipython",
    "version": 3
   },
   "file_extension": ".py",
   "mimetype": "text/x-python",
   "name": "python",
   "nbconvert_exporter": "python",
   "pygments_lexer": "ipython3",
   "version": "3.6.4"
  }
 },
 "nbformat": 4,
 "nbformat_minor": 2
}
