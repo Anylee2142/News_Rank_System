{
 "cells": [
  {
   "cell_type": "markdown",
   "metadata": {},
   "source": [
    "# seed generator = Faker"
   ]
  },
  {
   "cell_type": "markdown",
   "metadata": {},
   "source": [
    "MySQL Workbench\n",
    "\n",
    "If you want to avoid writing sql, you can also do it in MySQL Workbench by right clicking on the table, choose \"Alter Table ...\" in the menu.\n",
    "\n",
    "When the table structure view opens, go to tab \"Options\" (on the lower bottom of the view), and set \"Auto Increment\" field to the value of the next autoincrement number.\n",
    "\n",
    "Don't forget to hit \"Apply\" when you are done with all changes."
   ]
  },
  {
   "cell_type": "code",
   "execution_count": 1,
   "metadata": {},
   "outputs": [],
   "source": [
    "import pickle as pk\n",
    "import pandas as pd"
   ]
  },
  {
   "cell_type": "code",
   "execution_count": 2,
   "metadata": {},
   "outputs": [],
   "source": [
    "import MySQLdb as db\n",
    "from faker import Faker\n",
    "fake = Faker()"
   ]
  },
  {
   "cell_type": "code",
   "execution_count": 3,
   "metadata": {},
   "outputs": [],
   "source": [
    "data = pd.read_pickle('dataset/seed_preprocessed.pkl')"
   ]
  },
  {
   "cell_type": "code",
   "execution_count": 4,
   "metadata": {},
   "outputs": [
    {
     "data": {
      "text/html": [
       "<div>\n",
       "<style scoped>\n",
       "    .dataframe tbody tr th:only-of-type {\n",
       "        vertical-align: middle;\n",
       "    }\n",
       "\n",
       "    .dataframe tbody tr th {\n",
       "        vertical-align: top;\n",
       "    }\n",
       "\n",
       "    .dataframe thead th {\n",
       "        text-align: right;\n",
       "    }\n",
       "</style>\n",
       "<table border=\"1\" class=\"dataframe\">\n",
       "  <thead>\n",
       "    <tr style=\"text-align: right;\">\n",
       "      <th></th>\n",
       "      <th>area</th>\n",
       "      <th>content</th>\n",
       "      <th>title</th>\n",
       "      <th>written_date</th>\n",
       "    </tr>\n",
       "  </thead>\n",
       "  <tbody>\n",
       "    <tr>\n",
       "      <th>0</th>\n",
       "      <td>0</td>\n",
       "      <td>\\t정의당  정치권  댓글 조작 사건 정쟁화 말고 재발 방지에 집중해야 \\n\\n\\n...</td>\n",
       "      <td>정의당  정치권  댓글 조작 사건 정쟁화 말고 재발 방지에 집중해야</td>\n",
       "      <td>2018-04-14 17:03:00</td>\n",
       "    </tr>\n",
       "    <tr>\n",
       "      <th>1</th>\n",
       "      <td>0</td>\n",
       "      <td>\\t 단독   안철수 지지율 37 로 오른 5일간 대대적 네거티브 공격 \\n\\n 문...</td>\n",
       "      <td>단독   안철수 지지율 37 로 오른 5일간 대대적 네거티브 공격</td>\n",
       "      <td>2018-04-19 02:31:00</td>\n",
       "    </tr>\n",
       "    <tr>\n",
       "      <th>2</th>\n",
       "      <td>0</td>\n",
       "      <td>\\t 단독   김경수 의원   드루킹 에 직접 기사 URL 보냈다 \\n\\n동영상 뉴...</td>\n",
       "      <td>단독   김경수 의원   드루킹 에 직접 기사 URL 보냈다</td>\n",
       "      <td>2018-04-19 20:12:00</td>\n",
       "    </tr>\n",
       "    <tr>\n",
       "      <th>3</th>\n",
       "      <td>0</td>\n",
       "      <td>\\t민주당원 여론조작 놓고 여야 공방  개인 범죄  vs  배후 밝혀야 \\n\\n박범...</td>\n",
       "      <td>민주당원 여론조작 놓고 여야 공방  개인 범죄  vs  배후 밝혀야</td>\n",
       "      <td>2018-04-14 17:00:00</td>\n",
       "    </tr>\n",
       "    <tr>\n",
       "      <th>4</th>\n",
       "      <td>0</td>\n",
       "      <td>\\t 단독  에 추천된 변호사  드루킹 체포 두 달 전 동행 해명 일부 모순\\n\\n...</td>\n",
       "      <td>단독  에 추천된 변호사  드루킹 체포 두 달 전 동행 해명 일부 모순</td>\n",
       "      <td>2018-04-19 02:01:00</td>\n",
       "    </tr>\n",
       "  </tbody>\n",
       "</table>\n",
       "</div>"
      ],
      "text/plain": [
       "   area                                            content  \\\n",
       "0     0  \\t정의당  정치권  댓글 조작 사건 정쟁화 말고 재발 방지에 집중해야 \\n\\n\\n...   \n",
       "1     0  \\t 단독   안철수 지지율 37 로 오른 5일간 대대적 네거티브 공격 \\n\\n 문...   \n",
       "2     0  \\t 단독   김경수 의원   드루킹 에 직접 기사 URL 보냈다 \\n\\n동영상 뉴...   \n",
       "3     0  \\t민주당원 여론조작 놓고 여야 공방  개인 범죄  vs  배후 밝혀야 \\n\\n박범...   \n",
       "4     0  \\t 단독  에 추천된 변호사  드루킹 체포 두 달 전 동행 해명 일부 모순\\n\\n...   \n",
       "\n",
       "                                      title         written_date  \n",
       "0    정의당  정치권  댓글 조작 사건 정쟁화 말고 재발 방지에 집중해야   2018-04-14 17:03:00  \n",
       "1     단독   안철수 지지율 37 로 오른 5일간 대대적 네거티브 공격   2018-04-19 02:31:00  \n",
       "2        단독   김경수 의원   드루킹 에 직접 기사 URL 보냈다   2018-04-19 20:12:00  \n",
       "3    민주당원 여론조작 놓고 여야 공방  개인 범죄  vs  배후 밝혀야   2018-04-14 17:00:00  \n",
       "4   단독  에 추천된 변호사  드루킹 체포 두 달 전 동행 해명 일부 모순  2018-04-19 02:01:00  "
      ]
     },
     "execution_count": 4,
     "metadata": {},
     "output_type": "execute_result"
    }
   ],
   "source": [
    "data.head()"
   ]
  },
  {
   "cell_type": "code",
   "execution_count": 5,
   "metadata": {},
   "outputs": [
    {
     "data": {
      "text/plain": [
       "19067"
      ]
     },
     "execution_count": 5,
     "metadata": {},
     "output_type": "execute_result"
    }
   ],
   "source": [
    "len(data)"
   ]
  },
  {
   "cell_type": "code",
   "execution_count": 6,
   "metadata": {},
   "outputs": [],
   "source": [
    "db = db.connect(\n",
    "    '127.0.0.1',\n",
    "    'root',\n",
    "    '5555',\n",
    "    'news_rec',\n",
    "    charset='utf8'\n",
    ")"
   ]
  },
  {
   "cell_type": "code",
   "execution_count": 7,
   "metadata": {},
   "outputs": [
    {
     "name": "stdout",
     "output_type": "stream",
     "text": [
      "0  completed !\n",
      "1000  completed !\n",
      "2000  completed !\n",
      "3000  completed !\n",
      "4000  completed !\n",
      "5000  completed !\n",
      "6000  completed !\n",
      "7000  completed !\n",
      "8000  completed !\n",
      "9000  completed !\n",
      "10000  completed !\n",
      "11000  completed !\n",
      "12000  completed !\n",
      "13000  completed !\n",
      "14000  completed !\n",
      "15000  completed !\n",
      "16000  completed !\n",
      "17000  completed !\n",
      "18000  completed !\n",
      "19000  completed !\n"
     ]
    }
   ],
   "source": [
    "# article to DB\n",
    "curs = db.cursor()\n",
    "count = 0\n",
    "for idx, val in data.iterrows():\n",
    "    area = val['area']\n",
    "    title = \"'{}'\".format(val['title'])\n",
    "    content = \"'{}'\".format(val['content'].replace('\\n', ''))\n",
    "    date = \"'{}'\".format(val['written_date'])\n",
    "\n",
    "    sql = 'INSERT INTO Article(area, title, content, written_date) VALUES({},{},{},{});'.format(\n",
    "        area, title, content, date)\n",
    "\n",
    "    curs.execute(sql)\n",
    "    db.commit()\n",
    "    if count%1000==0:\n",
    "        print(count,' completed !')\n",
    "    count += 1"
   ]
  },
  {
   "cell_type": "markdown",
   "metadata": {},
   "source": [
    "--------------"
   ]
  },
  {
   "cell_type": "code",
   "execution_count": 6,
   "metadata": {},
   "outputs": [],
   "source": [
    "# Seed for User\n",
    "users = [(fake.email(), fake.password()) for _ in range(0, 200)]\n",
    "\n",
    "curs = db.cursor()\n",
    "for user in users:\n",
    "    ID = \"'{}'\".format(user[0])\n",
    "    PW = \"'{}'\".format(user[1])\n",
    "\n",
    "    sql = 'INSERT INTO User(id,pw) VALUES({},{});'.format(ID, PW)\n",
    "    curs.execute(sql)\n",
    "    db.commit()"
   ]
  },
  {
   "cell_type": "markdown",
   "metadata": {},
   "source": [
    "# View seed\n",
    "## 1. 기사는 5612개\n",
    "## 2. 유저는 200명\n",
    "## 3. 유저 한명당 기사를 개별적으로 50 ~ 100개 봤다 가정"
   ]
  },
  {
   "cell_type": "code",
   "execution_count": 7,
   "metadata": {},
   "outputs": [],
   "source": [
    "import random\n",
    "\n",
    "curs = db.cursor()\n",
    "for user_id in range(1,201):\n",
    "    # 유저가 기사를 총 몇개나 봤는지 (중복 X)\n",
    "    how_many_articles = random.randrange(50,101)\n",
    "    \n",
    "    view_article_list = set()\n",
    "    \n",
    "    \n",
    "    # 그 기사들의 ID\n",
    "    while len(view_article_list) < how_many_articles:\n",
    "        view_article_list.add(random.randrange(1,5613))\n",
    "    \n",
    "    view_article_list = list(view_article_list)\n",
    "    view_article_list = [(each,str(fake.date_time_this_year()) ) for each in view_article_list]\n",
    "    \n",
    "    for tok in view_article_list:\n",
    "        article_id = tok[0]\n",
    "        view_date = \"'{}'\".format(tok[1])\n",
    "        \n",
    "        sql = 'INSERT INTO VIEW(user_id, article_id, view_date) VALUES({},{},{})'.format(user_id, article_id, view_date)\n",
    "        curs.execute(sql)\n",
    "        db.commit()"
   ]
  },
  {
   "cell_type": "code",
   "execution_count": null,
   "metadata": {},
   "outputs": [],
   "source": []
  }
 ],
 "metadata": {
  "kernelspec": {
   "display_name": "Python 3",
   "language": "python",
   "name": "python3"
  },
  "language_info": {
   "codemirror_mode": {
    "name": "ipython",
    "version": 3
   },
   "file_extension": ".py",
   "mimetype": "text/x-python",
   "name": "python",
   "nbconvert_exporter": "python",
   "pygments_lexer": "ipython3",
   "version": "3.6.4"
  }
 },
 "nbformat": 4,
 "nbformat_minor": 2
}
