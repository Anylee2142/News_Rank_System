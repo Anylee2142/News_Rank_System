{
 "cells": [
  {
   "cell_type": "code",
   "execution_count": 1,
   "metadata": {},
   "outputs": [],
   "source": [
    "import pandas as pd\n",
    "import pickle\n",
    "\n",
    "from os import listdir\n",
    "from os.path import isfile, join"
   ]
  },
  {
   "cell_type": "code",
   "execution_count": 21,
   "metadata": {},
   "outputs": [],
   "source": [
    "path = [('정치',0), ('경제',1), ('사회',2), ('세계',3), ('생활문화',4), ('IT과학',5)]\n",
    "# path = [('정치',0)]\n",
    "\n",
    "total_df = pd.DataFrame(columns=['content','area'])\n",
    "\n",
    "for each in path:\n",
    "    file_names = [f for f in listdir(each[0]) if isfile(\n",
    "        join(each[0], f)) and f.endswith(\".txt\")]\n",
    "    full_names = ['{}/{}'.format(each[0], tmp) for tmp in file_names]\n",
    "\n",
    "    contents = []\n",
    "    written_date = []\n",
    "    \n",
    "    df = pd.DataFrame(columns=['content','area'])\n",
    "    \n",
    "    for file_name in full_names:\n",
    "\n",
    "        with open(file_name, 'r', encoding='utf-8') as f:\n",
    "            contents.append(f.read())\n",
    "            written_date.append(file_name)\n",
    "            \n",
    "    df['content'] = pd.Series(contents)\n",
    "    df['area'] = each[1]\n",
    "    df['written_date'] = pd.Series(written_date)\n",
    "    df['written_date'] = df['written_date'].apply(lambda x: '-'.join(x.split('/')[1].replace('.txt','').split('-')[1:]))\n",
    "    df['written_date'] = df['written_date'].apply(lambda x: '-'.join(x.split()))\n",
    "    df['title'] = df['content'].apply(lambda x: x.split('\\n')[0].replace('\\t',''))\n",
    "    \n",
    "    df = df[['title','content','written_date','area']]\n",
    "    \n",
    "    total_df = total_df.append(df)\n",
    "\n",
    "total_df['area'] = total_df.area.astype('int64')\n",
    "total_df.reset_index(drop=True, inplace=True)"
   ]
  },
  {
   "cell_type": "code",
   "execution_count": 22,
   "metadata": {},
   "outputs": [],
   "source": [
    "with open('dataset/training_set.pkl','wb') as f:\n",
    "    pickle.dump(total_df, f)"
   ]
  },
  {
   "cell_type": "code",
   "execution_count": 23,
   "metadata": {},
   "outputs": [
    {
     "data": {
      "text/html": [
       "<div>\n",
       "<style>\n",
       "    .dataframe thead tr:only-child th {\n",
       "        text-align: right;\n",
       "    }\n",
       "\n",
       "    .dataframe thead th {\n",
       "        text-align: left;\n",
       "    }\n",
       "\n",
       "    .dataframe tbody tr th {\n",
       "        vertical-align: top;\n",
       "    }\n",
       "</style>\n",
       "<table border=\"1\" class=\"dataframe\">\n",
       "  <thead>\n",
       "    <tr style=\"text-align: right;\">\n",
       "      <th></th>\n",
       "      <th>title</th>\n",
       "      <th>content</th>\n",
       "      <th>written_date</th>\n",
       "      <th>area</th>\n",
       "    </tr>\n",
       "  </thead>\n",
       "  <tbody>\n",
       "    <tr>\n",
       "      <th>0</th>\n",
       "      <td>남는 것 없다는 이통사들  실제이익은 미국 일본 수준</td>\n",
       "      <td>\\t남는 것 없다는 이통사들  실제이익은 미국 일본 수준\\n\\n동영상 뉴스\\n남는 ...</td>\n",
       "      <td>2018-04-14-17-01</td>\n",
       "      <td>5</td>\n",
       "    </tr>\n",
       "    <tr>\n",
       "      <th>1</th>\n",
       "      <td>러 정부 데이터 요구 거부하자  텔레그램 차단하라</td>\n",
       "      <td>\\t러 정부 데이터 요구 거부하자  텔레그램 차단하라 \\n\\n파블 듀로프  프라이버...</td>\n",
       "      <td>2018-04-14-16-37</td>\n",
       "      <td>5</td>\n",
       "    </tr>\n",
       "    <tr>\n",
       "      <th>2</th>\n",
       "      <td>비방댓글 만 자동클릭  민주당원 쓴  매크로  프로그램이란</td>\n",
       "      <td>\\t 비방댓글 만 자동클릭  민주당원 쓴  매크로  프로그램이란\\n\\n네이버  지난...</td>\n",
       "      <td>2018-04-14-11-36</td>\n",
       "      <td>5</td>\n",
       "    </tr>\n",
       "    <tr>\n",
       "      <th>3</th>\n",
       "      <td>암호화폐  안전한 거래소 환경 조성은 의무</td>\n",
       "      <td>\\t 암호화폐  안전한 거래소 환경 조성은 의무 \\n\\n 아이뉴스24 \\n\\n 아이...</td>\n",
       "      <td>2018-04-13-16-00</td>\n",
       "      <td>5</td>\n",
       "    </tr>\n",
       "    <tr>\n",
       "      <th>4</th>\n",
       "      <td>조작 안해도 알아서 깨끗한 공기가  AI 품은 공기청정기</td>\n",
       "      <td>\\t조작 안해도 알아서 깨끗한 공기가  AI 품은 공기청정기\\n\\n 디지털타임스 김...</td>\n",
       "      <td>2018-04-13-15-58</td>\n",
       "      <td>5</td>\n",
       "    </tr>\n",
       "  </tbody>\n",
       "</table>\n",
       "</div>"
      ],
      "text/plain": [
       "                               title  \\\n",
       "0      남는 것 없다는 이통사들  실제이익은 미국 일본 수준   \n",
       "1       러 정부 데이터 요구 거부하자  텔레그램 차단하라    \n",
       "2   비방댓글 만 자동클릭  민주당원 쓴  매크로  프로그램이란   \n",
       "3           암호화폐  안전한 거래소 환경 조성은 의무    \n",
       "4    조작 안해도 알아서 깨끗한 공기가  AI 품은 공기청정기   \n",
       "\n",
       "                                             content      written_date  area  \n",
       "0  \\t남는 것 없다는 이통사들  실제이익은 미국 일본 수준\\n\\n동영상 뉴스\\n남는 ...  2018-04-14-17-01     5  \n",
       "1  \\t러 정부 데이터 요구 거부하자  텔레그램 차단하라 \\n\\n파블 듀로프  프라이버...  2018-04-14-16-37     5  \n",
       "2  \\t 비방댓글 만 자동클릭  민주당원 쓴  매크로  프로그램이란\\n\\n네이버  지난...  2018-04-14-11-36     5  \n",
       "3  \\t 암호화폐  안전한 거래소 환경 조성은 의무 \\n\\n 아이뉴스24 \\n\\n 아이...  2018-04-13-16-00     5  \n",
       "4  \\t조작 안해도 알아서 깨끗한 공기가  AI 품은 공기청정기\\n\\n 디지털타임스 김...  2018-04-13-15-58     5  "
      ]
     },
     "execution_count": 23,
     "metadata": {},
     "output_type": "execute_result"
    }
   ],
   "source": [
    "df.head()"
   ]
  },
  {
   "cell_type": "code",
   "execution_count": 24,
   "metadata": {},
   "outputs": [],
   "source": [
    "data = pd.read_pickle('dataset/training_set.pkl')"
   ]
  },
  {
   "cell_type": "code",
   "execution_count": 25,
   "metadata": {},
   "outputs": [
    {
     "data": {
      "text/html": [
       "<div>\n",
       "<style>\n",
       "    .dataframe thead tr:only-child th {\n",
       "        text-align: right;\n",
       "    }\n",
       "\n",
       "    .dataframe thead th {\n",
       "        text-align: left;\n",
       "    }\n",
       "\n",
       "    .dataframe tbody tr th {\n",
       "        vertical-align: top;\n",
       "    }\n",
       "</style>\n",
       "<table border=\"1\" class=\"dataframe\">\n",
       "  <thead>\n",
       "    <tr style=\"text-align: right;\">\n",
       "      <th></th>\n",
       "      <th>area</th>\n",
       "      <th>content</th>\n",
       "      <th>title</th>\n",
       "      <th>written_date</th>\n",
       "    </tr>\n",
       "  </thead>\n",
       "  <tbody>\n",
       "    <tr>\n",
       "      <th>0</th>\n",
       "      <td>0</td>\n",
       "      <td>\\t정의당  정치권  댓글 조작 사건 정쟁화 말고 재발 방지에 집중해야 \\n\\n\\n...</td>\n",
       "      <td>정의당  정치권  댓글 조작 사건 정쟁화 말고 재발 방지에 집중해야</td>\n",
       "      <td>2018-04-14-17-03</td>\n",
       "    </tr>\n",
       "    <tr>\n",
       "      <th>1</th>\n",
       "      <td>0</td>\n",
       "      <td>\\t민주당원 여론조작 놓고 여야 공방  개인 범죄  vs  배후 밝혀야 \\n\\n박범...</td>\n",
       "      <td>민주당원 여론조작 놓고 여야 공방  개인 범죄  vs  배후 밝혀야</td>\n",
       "      <td>2018-04-14-17-00</td>\n",
       "    </tr>\n",
       "    <tr>\n",
       "      <th>2</th>\n",
       "      <td>0</td>\n",
       "      <td>\\t평화당  민주당  보수정권 전유물로 여겨진 여론조작 자행 충격 \\n\\n\\n\\n ...</td>\n",
       "      <td>평화당  민주당  보수정권 전유물로 여겨진 여론조작 자행 충격</td>\n",
       "      <td>2018-04-14-15-32</td>\n",
       "    </tr>\n",
       "    <tr>\n",
       "      <th>3</th>\n",
       "      <td>0</td>\n",
       "      <td>\\t김기식  의원 임기 말 후원금 3억7000만원 왜 급히 썼나\\n\\n사진 뉴시스\\...</td>\n",
       "      <td>김기식  의원 임기 말 후원금 3억7000만원 왜 급히 썼나</td>\n",
       "      <td>2018-04-14-05-04</td>\n",
       "    </tr>\n",
       "    <tr>\n",
       "      <th>4</th>\n",
       "      <td>0</td>\n",
       "      <td>\\t 김기식 의혹  선관위 해석 나와도 논란 불가피\\n\\n전문가 상당수  후원금 이...</td>\n",
       "      <td>김기식 의혹  선관위 해석 나와도 논란 불가피</td>\n",
       "      <td>2018-04-14-05-04</td>\n",
       "    </tr>\n",
       "  </tbody>\n",
       "</table>\n",
       "</div>"
      ],
      "text/plain": [
       "   area                                            content  \\\n",
       "0     0  \\t정의당  정치권  댓글 조작 사건 정쟁화 말고 재발 방지에 집중해야 \\n\\n\\n...   \n",
       "1     0  \\t민주당원 여론조작 놓고 여야 공방  개인 범죄  vs  배후 밝혀야 \\n\\n박범...   \n",
       "2     0  \\t평화당  민주당  보수정권 전유물로 여겨진 여론조작 자행 충격 \\n\\n\\n\\n ...   \n",
       "3     0  \\t김기식  의원 임기 말 후원금 3억7000만원 왜 급히 썼나\\n\\n사진 뉴시스\\...   \n",
       "4     0  \\t 김기식 의혹  선관위 해석 나와도 논란 불가피\\n\\n전문가 상당수  후원금 이...   \n",
       "\n",
       "                                    title      written_date  \n",
       "0  정의당  정치권  댓글 조작 사건 정쟁화 말고 재발 방지에 집중해야   2018-04-14-17-03  \n",
       "1  민주당원 여론조작 놓고 여야 공방  개인 범죄  vs  배후 밝혀야   2018-04-14-17-00  \n",
       "2     평화당  민주당  보수정권 전유물로 여겨진 여론조작 자행 충격   2018-04-14-15-32  \n",
       "3       김기식  의원 임기 말 후원금 3억7000만원 왜 급히 썼나  2018-04-14-05-04  \n",
       "4               김기식 의혹  선관위 해석 나와도 논란 불가피  2018-04-14-05-04  "
      ]
     },
     "execution_count": 25,
     "metadata": {},
     "output_type": "execute_result"
    }
   ],
   "source": [
    "data.head()"
   ]
  },
  {
   "cell_type": "code",
   "execution_count": 6,
   "metadata": {},
   "outputs": [],
   "source": [
    "total_df.to_csv('dataset/training_data.csv',encoding='utf-8')"
   ]
  },
  {
   "cell_type": "code",
   "execution_count": null,
   "metadata": {},
   "outputs": [],
   "source": []
  }
 ],
 "metadata": {
  "kernelspec": {
   "display_name": "Python 3",
   "language": "python",
   "name": "python3"
  },
  "language_info": {
   "codemirror_mode": {
    "name": "ipython",
    "version": 3
   },
   "file_extension": ".py",
   "mimetype": "text/x-python",
   "name": "python",
   "nbconvert_exporter": "python",
   "pygments_lexer": "ipython3",
   "version": "3.6.3"
  }
 },
 "nbformat": 4,
 "nbformat_minor": 2
}
