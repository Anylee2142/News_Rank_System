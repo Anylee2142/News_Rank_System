{
 "cells": [
  {
   "cell_type": "code",
   "execution_count": 1,
   "metadata": {},
   "outputs": [],
   "source": [
    "from sklearn.feature_extraction.text import CountVectorizer, TfidfVectorizer\n",
    "from sklearn.model_selection import train_test_split\n",
    "from sklearn.naive_bayes import MultinomialNB\n",
    "from sklearn.pipeline import Pipeline\n",
    "from konlpy.tag import Twitter\n",
    "\n",
    "import pandas as pd\n",
    "import dill as pickle"
   ]
  },
  {
   "cell_type": "code",
   "execution_count": 2,
   "metadata": {},
   "outputs": [],
   "source": [
    "data = pd.read_pickle('dataset/training_2018-04-19 21-15-13.pkl')"
   ]
  },
  {
   "cell_type": "code",
   "execution_count": 4,
   "metadata": {},
   "outputs": [
    {
     "data": {
      "text/html": [
       "<div>\n",
       "<style>\n",
       "    .dataframe thead tr:only-child th {\n",
       "        text-align: right;\n",
       "    }\n",
       "\n",
       "    .dataframe thead th {\n",
       "        text-align: left;\n",
       "    }\n",
       "\n",
       "    .dataframe tbody tr th {\n",
       "        vertical-align: top;\n",
       "    }\n",
       "</style>\n",
       "<table border=\"1\" class=\"dataframe\">\n",
       "  <thead>\n",
       "    <tr style=\"text-align: right;\">\n",
       "      <th></th>\n",
       "      <th>area</th>\n",
       "      <th>content</th>\n",
       "      <th>title</th>\n",
       "      <th>written_date</th>\n",
       "    </tr>\n",
       "  </thead>\n",
       "  <tbody>\n",
       "    <tr>\n",
       "      <th>0</th>\n",
       "      <td>0</td>\n",
       "      <td>\\t정의당  정치권  댓글 조작 사건 정쟁화 말고 재발 방지에 집중해야 \\n\\n\\n...</td>\n",
       "      <td>정의당  정치권  댓글 조작 사건 정쟁화 말고 재발 방지에 집중해야</td>\n",
       "      <td>04-19-21-15-13</td>\n",
       "    </tr>\n",
       "    <tr>\n",
       "      <th>1</th>\n",
       "      <td>0</td>\n",
       "      <td>\\t 단독   안철수 지지율 37 로 오른 5일간 대대적 네거티브 공격 \\n\\n 문...</td>\n",
       "      <td>단독   안철수 지지율 37 로 오른 5일간 대대적 네거티브 공격</td>\n",
       "      <td>04-19-21-15-13</td>\n",
       "    </tr>\n",
       "    <tr>\n",
       "      <th>2</th>\n",
       "      <td>0</td>\n",
       "      <td>\\t 단독   김경수 의원   드루킹 에 직접 기사 URL 보냈다 \\n\\n동영상 뉴...</td>\n",
       "      <td>단독   김경수 의원   드루킹 에 직접 기사 URL 보냈다</td>\n",
       "      <td>04-19-21-15-13</td>\n",
       "    </tr>\n",
       "    <tr>\n",
       "      <th>3</th>\n",
       "      <td>0</td>\n",
       "      <td>\\t민주당원 여론조작 놓고 여야 공방  개인 범죄  vs  배후 밝혀야 \\n\\n박범...</td>\n",
       "      <td>민주당원 여론조작 놓고 여야 공방  개인 범죄  vs  배후 밝혀야</td>\n",
       "      <td>04-19-21-15-13</td>\n",
       "    </tr>\n",
       "    <tr>\n",
       "      <th>4</th>\n",
       "      <td>0</td>\n",
       "      <td>\\t 단독  에 추천된 변호사  드루킹 체포 두 달 전 동행 해명 일부 모순\\n\\n...</td>\n",
       "      <td>단독  에 추천된 변호사  드루킹 체포 두 달 전 동행 해명 일부 모순</td>\n",
       "      <td>04-19-21-15-13</td>\n",
       "    </tr>\n",
       "  </tbody>\n",
       "</table>\n",
       "</div>"
      ],
      "text/plain": [
       "   area                                            content  \\\n",
       "0     0  \\t정의당  정치권  댓글 조작 사건 정쟁화 말고 재발 방지에 집중해야 \\n\\n\\n...   \n",
       "1     0  \\t 단독   안철수 지지율 37 로 오른 5일간 대대적 네거티브 공격 \\n\\n 문...   \n",
       "2     0  \\t 단독   김경수 의원   드루킹 에 직접 기사 URL 보냈다 \\n\\n동영상 뉴...   \n",
       "3     0  \\t민주당원 여론조작 놓고 여야 공방  개인 범죄  vs  배후 밝혀야 \\n\\n박범...   \n",
       "4     0  \\t 단독  에 추천된 변호사  드루킹 체포 두 달 전 동행 해명 일부 모순\\n\\n...   \n",
       "\n",
       "                                      title    written_date  \n",
       "0    정의당  정치권  댓글 조작 사건 정쟁화 말고 재발 방지에 집중해야   04-19-21-15-13  \n",
       "1     단독   안철수 지지율 37 로 오른 5일간 대대적 네거티브 공격   04-19-21-15-13  \n",
       "2        단독   김경수 의원   드루킹 에 직접 기사 URL 보냈다   04-19-21-15-13  \n",
       "3    민주당원 여론조작 놓고 여야 공방  개인 범죄  vs  배후 밝혀야   04-19-21-15-13  \n",
       "4   단독  에 추천된 변호사  드루킹 체포 두 달 전 동행 해명 일부 모순  04-19-21-15-13  "
      ]
     },
     "execution_count": 4,
     "metadata": {},
     "output_type": "execute_result"
    }
   ],
   "source": [
    "data.head()"
   ]
  },
  {
   "cell_type": "code",
   "execution_count": 5,
   "metadata": {},
   "outputs": [],
   "source": [
    "X_train, X_test, y_train, y_test = train_test_split(data.content, data.area, test_size=0.3, random_state=1)"
   ]
  },
  {
   "cell_type": "code",
   "execution_count": 6,
   "metadata": {},
   "outputs": [],
   "source": [
    "A, B, a, b = train_test_split(data.content, data.area, test_size=0.5,random_state=2)"
   ]
  },
  {
   "cell_type": "code",
   "execution_count": 7,
   "metadata": {},
   "outputs": [],
   "source": [
    "clf = Pipeline([\n",
    "    ('vect', TfidfVectorizer(tokenizer=lambda x: ['/'.join(t) for t in Twitter().pos(x)])),\n",
    "    ('clf',MultinomialNB(alpha=0.01)),\n",
    "])"
   ]
  },
  {
   "cell_type": "code",
   "execution_count": null,
   "metadata": {},
   "outputs": [],
   "source": [
    "%%time\n",
    "model = clf.fit(X_train, y_train)"
   ]
  },
  {
   "cell_type": "code",
   "execution_count": 8,
   "metadata": {},
   "outputs": [],
   "source": [
    "from sklearn.metrics import confusion_matrix, classification_report"
   ]
  },
  {
   "cell_type": "code",
   "execution_count": 9,
   "metadata": {},
   "outputs": [
    {
     "data": {
      "text/plain": [
       "array([[816,   3,  33,  25,   4,   4],\n",
       "       [ 15, 733,  19,   9,  11,  30],\n",
       "       [ 19,   6, 749,   7,  15,   4],\n",
       "       [ 18,  12,   0, 815,  10,   8],\n",
       "       [  1,   9,   6,   1, 847,   8],\n",
       "       [  5,   6,   2,   6,  14, 778]], dtype=int64)"
      ]
     },
     "execution_count": 9,
     "metadata": {},
     "output_type": "execute_result"
    }
   ],
   "source": [
    "y_pred = model.predict(X_test)\n",
    "confusion_matrix(y_test, y_pred)"
   ]
  },
  {
   "cell_type": "code",
   "execution_count": 10,
   "metadata": {},
   "outputs": [
    {
     "name": "stdout",
     "output_type": "stream",
     "text": [
      "             precision    recall  f1-score   support\n",
      "\n",
      "          0       0.93      0.92      0.93       885\n",
      "          1       0.95      0.90      0.92       817\n",
      "          2       0.93      0.94      0.93       800\n",
      "          3       0.94      0.94      0.94       863\n",
      "          4       0.94      0.97      0.96       872\n",
      "          5       0.94      0.96      0.95       811\n",
      "\n",
      "avg / total       0.94      0.94      0.94      5048\n",
      "\n"
     ]
    }
   ],
   "source": [
    "print(classification_report(y_test, y_pred))"
   ]
  },
  {
   "cell_type": "markdown",
   "metadata": {},
   "source": [
    "-----------"
   ]
  },
  {
   "cell_type": "code",
   "execution_count": 27,
   "metadata": {},
   "outputs": [],
   "source": [
    "from datetime import datetime\n",
    "\n",
    "now = datetime.now()\n",
    "cur_time = now.strftime('%Y-%m-%d %H-%M-%S')\n",
    "\n",
    "pickle.dump(model, open(\"dataset/1_twitter-tfidf-mulnb.pkl\", \"wb\"))"
   ]
  },
  {
   "cell_type": "code",
   "execution_count": 24,
   "metadata": {},
   "outputs": [],
   "source": [
    "model = pickle.load(open('dataset/1_twitter-tfidf-mulnb.pkl','rb'))"
   ]
  },
  {
   "cell_type": "code",
   "execution_count": null,
   "metadata": {},
   "outputs": [],
   "source": []
  },
  {
   "cell_type": "code",
   "execution_count": null,
   "metadata": {},
   "outputs": [],
   "source": []
  },
  {
   "cell_type": "code",
   "execution_count": null,
   "metadata": {},
   "outputs": [],
   "source": []
  },
  {
   "cell_type": "code",
   "execution_count": null,
   "metadata": {},
   "outputs": [],
   "source": []
  },
  {
   "cell_type": "code",
   "execution_count": 22,
   "metadata": {},
   "outputs": [
    {
     "data": {
      "text/plain": [
       "array([[257,   1,   8,   5,   1,   1],\n",
       "       [  5, 251,   4,   1,   8,   8],\n",
       "       [ 10,   5, 255,   1,  11,   0],\n",
       "       [  5,   3,   0, 276,   6,   2],\n",
       "       [  3,   4,   3,   0, 276,   4],\n",
       "       [  3,   7,   0,   1,   9, 250]], dtype=int64)"
      ]
     },
     "execution_count": 22,
     "metadata": {},
     "output_type": "execute_result"
    }
   ],
   "source": [
    "y_pred = model.predict(X_test)\n",
    "confusion_matrix(y_test, y_pred)"
   ]
  },
  {
   "cell_type": "code",
   "execution_count": 23,
   "metadata": {},
   "outputs": [
    {
     "name": "stdout",
     "output_type": "stream",
     "text": [
      "             precision    recall  f1-score   support\n",
      "\n",
      "          0       0.91      0.94      0.92       273\n",
      "          1       0.93      0.91      0.92       277\n",
      "          2       0.94      0.90      0.92       282\n",
      "          3       0.97      0.95      0.96       292\n",
      "          4       0.89      0.95      0.92       290\n",
      "          5       0.94      0.93      0.93       270\n",
      "\n",
      "avg / total       0.93      0.93      0.93      1684\n",
      "\n"
     ]
    }
   ],
   "source": [
    "print(classification_report(y_test, y_pred))"
   ]
  },
  {
   "cell_type": "code",
   "execution_count": null,
   "metadata": {},
   "outputs": [],
   "source": []
  }
 ],
 "metadata": {
  "kernelspec": {
   "display_name": "Python 3",
   "language": "python",
   "name": "python3"
  },
  "language_info": {
   "codemirror_mode": {
    "name": "ipython",
    "version": 3
   },
   "file_extension": ".py",
   "mimetype": "text/x-python",
   "name": "python",
   "nbconvert_exporter": "python",
   "pygments_lexer": "ipython3",
   "version": "3.6.3"
  }
 },
 "nbformat": 4,
 "nbformat_minor": 2
}
