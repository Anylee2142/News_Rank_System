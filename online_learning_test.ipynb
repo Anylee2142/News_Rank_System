{
 "cells": [
  {
   "cell_type": "code",
   "execution_count": 1,
   "metadata": {},
   "outputs": [],
   "source": [
    "from sklearn.feature_extraction.text import CountVectorizer, TfidfVectorizer\n",
    "from sklearn.model_selection import train_test_split\n",
    "from sklearn.naive_bayes import MultinomialNB\n",
    "from sklearn.pipeline import Pipeline\n",
    "from konlpy.tag import Twitter\n",
    "\n",
    "import pandas as pd\n",
    "import dill as pickle"
   ]
  },
  {
   "cell_type": "code",
   "execution_count": 2,
   "metadata": {},
   "outputs": [],
   "source": [
    "data = pd.read_pickle('dataset/training_2018-04-19 21-15-13.pkl')"
   ]
  },
  {
   "cell_type": "code",
   "execution_count": 3,
   "metadata": {},
   "outputs": [
    {
     "data": {
      "text/html": [
       "<div>\n",
       "<style>\n",
       "    .dataframe thead tr:only-child th {\n",
       "        text-align: right;\n",
       "    }\n",
       "\n",
       "    .dataframe thead th {\n",
       "        text-align: left;\n",
       "    }\n",
       "\n",
       "    .dataframe tbody tr th {\n",
       "        vertical-align: top;\n",
       "    }\n",
       "</style>\n",
       "<table border=\"1\" class=\"dataframe\">\n",
       "  <thead>\n",
       "    <tr style=\"text-align: right;\">\n",
       "      <th></th>\n",
       "      <th>area</th>\n",
       "      <th>content</th>\n",
       "      <th>title</th>\n",
       "      <th>written_date</th>\n",
       "    </tr>\n",
       "  </thead>\n",
       "  <tbody>\n",
       "    <tr>\n",
       "      <th>0</th>\n",
       "      <td>0</td>\n",
       "      <td>\\t정의당  정치권  댓글 조작 사건 정쟁화 말고 재발 방지에 집중해야 \\n\\n\\n...</td>\n",
       "      <td>정의당  정치권  댓글 조작 사건 정쟁화 말고 재발 방지에 집중해야</td>\n",
       "      <td>04-19-21-15-13</td>\n",
       "    </tr>\n",
       "    <tr>\n",
       "      <th>1</th>\n",
       "      <td>0</td>\n",
       "      <td>\\t 단독   안철수 지지율 37 로 오른 5일간 대대적 네거티브 공격 \\n\\n 문...</td>\n",
       "      <td>단독   안철수 지지율 37 로 오른 5일간 대대적 네거티브 공격</td>\n",
       "      <td>04-19-21-15-13</td>\n",
       "    </tr>\n",
       "    <tr>\n",
       "      <th>2</th>\n",
       "      <td>0</td>\n",
       "      <td>\\t 단독   김경수 의원   드루킹 에 직접 기사 URL 보냈다 \\n\\n동영상 뉴...</td>\n",
       "      <td>단독   김경수 의원   드루킹 에 직접 기사 URL 보냈다</td>\n",
       "      <td>04-19-21-15-13</td>\n",
       "    </tr>\n",
       "    <tr>\n",
       "      <th>3</th>\n",
       "      <td>0</td>\n",
       "      <td>\\t민주당원 여론조작 놓고 여야 공방  개인 범죄  vs  배후 밝혀야 \\n\\n박범...</td>\n",
       "      <td>민주당원 여론조작 놓고 여야 공방  개인 범죄  vs  배후 밝혀야</td>\n",
       "      <td>04-19-21-15-13</td>\n",
       "    </tr>\n",
       "    <tr>\n",
       "      <th>4</th>\n",
       "      <td>0</td>\n",
       "      <td>\\t 단독  에 추천된 변호사  드루킹 체포 두 달 전 동행 해명 일부 모순\\n\\n...</td>\n",
       "      <td>단독  에 추천된 변호사  드루킹 체포 두 달 전 동행 해명 일부 모순</td>\n",
       "      <td>04-19-21-15-13</td>\n",
       "    </tr>\n",
       "  </tbody>\n",
       "</table>\n",
       "</div>"
      ],
      "text/plain": [
       "   area                                            content  \\\n",
       "0     0  \\t정의당  정치권  댓글 조작 사건 정쟁화 말고 재발 방지에 집중해야 \\n\\n\\n...   \n",
       "1     0  \\t 단독   안철수 지지율 37 로 오른 5일간 대대적 네거티브 공격 \\n\\n 문...   \n",
       "2     0  \\t 단독   김경수 의원   드루킹 에 직접 기사 URL 보냈다 \\n\\n동영상 뉴...   \n",
       "3     0  \\t민주당원 여론조작 놓고 여야 공방  개인 범죄  vs  배후 밝혀야 \\n\\n박범...   \n",
       "4     0  \\t 단독  에 추천된 변호사  드루킹 체포 두 달 전 동행 해명 일부 모순\\n\\n...   \n",
       "\n",
       "                                      title    written_date  \n",
       "0    정의당  정치권  댓글 조작 사건 정쟁화 말고 재발 방지에 집중해야   04-19-21-15-13  \n",
       "1     단독   안철수 지지율 37 로 오른 5일간 대대적 네거티브 공격   04-19-21-15-13  \n",
       "2        단독   김경수 의원   드루킹 에 직접 기사 URL 보냈다   04-19-21-15-13  \n",
       "3    민주당원 여론조작 놓고 여야 공방  개인 범죄  vs  배후 밝혀야   04-19-21-15-13  \n",
       "4   단독  에 추천된 변호사  드루킹 체포 두 달 전 동행 해명 일부 모순  04-19-21-15-13  "
      ]
     },
     "execution_count": 3,
     "metadata": {},
     "output_type": "execute_result"
    }
   ],
   "source": [
    "data.head()"
   ]
  },
  {
   "cell_type": "code",
   "execution_count": 10,
   "metadata": {},
   "outputs": [],
   "source": [
    "X_train, X_test, y_train, y_test = train_test_split(data.content, data.area, test_size=0.3, random_state=1)"
   ]
  },
  {
   "cell_type": "code",
   "execution_count": 11,
   "metadata": {},
   "outputs": [],
   "source": [
    "A, B, a, b = train_test_split(X_train, y_train, test_size=0.5,random_state=2)"
   ]
  },
  {
   "cell_type": "code",
   "execution_count": 12,
   "metadata": {},
   "outputs": [],
   "source": [
    "clf = Pipeline([\n",
    "    ('vect', TfidfVectorizer(tokenizer=lambda x: ['/'.join(t) for t in Twitter().pos(x)])),\n",
    "    ('clf',MultinomialNB(alpha=0.01)),\n",
    "])"
   ]
  },
  {
   "cell_type": "code",
   "execution_count": 13,
   "metadata": {},
   "outputs": [
    {
     "name": "stdout",
     "output_type": "stream",
     "text": [
      "Wall time: 5min 23s\n"
     ]
    }
   ],
   "source": [
    "%%time\n",
    "model = clf.fit(X_train, y_train)"
   ]
  },
  {
   "cell_type": "code",
   "execution_count": 14,
   "metadata": {},
   "outputs": [],
   "source": [
    "from sklearn.metrics import confusion_matrix, classification_report"
   ]
  },
  {
   "cell_type": "code",
   "execution_count": 15,
   "metadata": {},
   "outputs": [
    {
     "data": {
      "text/plain": [
       "array([[914,   4,  25,  24,   3,   5],\n",
       "       [ 18, 853,  30,  12,  10,  35],\n",
       "       [ 45,  21, 851,  11,  24,   6],\n",
       "       [ 17,  21,   1, 878,  15,  11],\n",
       "       [  1,  47,   8,   2, 906,   7],\n",
       "       [  4,  29,   1,   5,  17, 860]], dtype=int64)"
      ]
     },
     "execution_count": 15,
     "metadata": {},
     "output_type": "execute_result"
    }
   ],
   "source": [
    "y_pred = model.predict(X_test)\n",
    "confusion_matrix(y_test, y_pred)"
   ]
  },
  {
   "cell_type": "code",
   "execution_count": 16,
   "metadata": {},
   "outputs": [
    {
     "name": "stdout",
     "output_type": "stream",
     "text": [
      "             precision    recall  f1-score   support\n",
      "\n",
      "          0       0.91      0.94      0.93       975\n",
      "          1       0.87      0.89      0.88       958\n",
      "          2       0.93      0.89      0.91       958\n",
      "          3       0.94      0.93      0.94       943\n",
      "          4       0.93      0.93      0.93       971\n",
      "          5       0.93      0.94      0.93       916\n",
      "\n",
      "avg / total       0.92      0.92      0.92      5721\n",
      "\n"
     ]
    }
   ],
   "source": [
    "print(classification_report(y_test, y_pred))"
   ]
  },
  {
   "cell_type": "markdown",
   "metadata": {},
   "source": [
    "-----------"
   ]
  },
  {
   "cell_type": "code",
   "execution_count": null,
   "metadata": {},
   "outputs": [],
   "source": [
    "%%time\n"
   ]
  },
  {
   "cell_type": "code",
   "execution_count": null,
   "metadata": {},
   "outputs": [],
   "source": []
  }
 ],
 "metadata": {
  "kernelspec": {
   "display_name": "Python 3",
   "language": "python",
   "name": "python3"
  },
  "language_info": {
   "codemirror_mode": {
    "name": "ipython",
    "version": 3
   },
   "file_extension": ".py",
   "mimetype": "text/x-python",
   "name": "python",
   "nbconvert_exporter": "python",
   "pygments_lexer": "ipython3",
   "version": "3.6.3"
  }
 },
 "nbformat": 4,
 "nbformat_minor": 2
}
