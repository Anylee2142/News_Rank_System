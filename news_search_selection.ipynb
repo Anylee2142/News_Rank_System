{
 "cells": [
  {
   "cell_type": "markdown",
   "metadata": {},
   "source": [
    "# 0. 로그인한 유저의 장르 매트릭스를 만듦( 얘가 뭘 주로 보는 앤가 파악)\n",
    "\n",
    "# 1. 네이버 뉴스검색 api사용해서 키워드 검색\n",
    "# 2. 긁어온 뉴스에 대해 만든 엔진써서 장르분류\n",
    "# 3. 장르 매트릭스에 따라 자주 보는 장르를 위로 올림\n",
    "(predict or predict_proba, 확률기준이 더 복잡함)\n",
    "\n",
    "1. 분류됬을 때 확률 고만고만한 애들은 뒤로 보냄\n",
    "2. user_pref에 따라 추천할 때 확률이 높은 애들부터 추천"
   ]
  },
  {
   "cell_type": "markdown",
   "metadata": {},
   "source": [
    "path = [('정치',0), ('경제',1), ('사회',2), ('세계',3), ('생활문화',4), ('IT과학',5)]"
   ]
  },
  {
   "cell_type": "code",
   "execution_count": 1,
   "metadata": {},
   "outputs": [],
   "source": [
    "import MySQLdb as db\n",
    "import pandas as pd\n",
    "import numpy as np\n",
    "from naver_news_search import api_search"
   ]
  },
  {
   "cell_type": "code",
   "execution_count": 2,
   "metadata": {},
   "outputs": [],
   "source": [
    "db = db.connect(\n",
    "    \"127.0.0.1\",\n",
    "    \"root\",\n",
    "    '5555',\n",
    "    \"news_rec\",\n",
    "    charset='utf8',\n",
    ")"
   ]
  },
  {
   "cell_type": "code",
   "execution_count": 3,
   "metadata": {},
   "outputs": [],
   "source": [
    "view = pd.read_sql('SELECT * FROM VIEW', db)\n",
    "view['count'] = 1\n",
    "article = pd.read_sql('SELECT * FROM article', db)\n",
    "\n",
    "merged = pd.merge(view, article,left_on='article_id', right_on='article_id')\n",
    "merged = merged.loc[:,['user_id','article_id','area','count']]\n",
    "\n",
    "genre_matrix = merged.pivot_table(values='count',index='user_id',columns='area',aggfunc=np.sum)"
   ]
  },
  {
   "cell_type": "code",
   "execution_count": 218,
   "metadata": {},
   "outputs": [
    {
     "data": {
      "text/html": [
       "<div>\n",
       "<style>\n",
       "    .dataframe thead tr:only-child th {\n",
       "        text-align: right;\n",
       "    }\n",
       "\n",
       "    .dataframe thead th {\n",
       "        text-align: left;\n",
       "    }\n",
       "\n",
       "    .dataframe tbody tr th {\n",
       "        vertical-align: top;\n",
       "    }\n",
       "</style>\n",
       "<table border=\"1\" class=\"dataframe\">\n",
       "  <thead>\n",
       "    <tr style=\"text-align: right;\">\n",
       "      <th>area</th>\n",
       "      <th>0</th>\n",
       "      <th>1</th>\n",
       "      <th>2</th>\n",
       "      <th>3</th>\n",
       "      <th>4</th>\n",
       "      <th>5</th>\n",
       "    </tr>\n",
       "    <tr>\n",
       "      <th>user_id</th>\n",
       "      <th></th>\n",
       "      <th></th>\n",
       "      <th></th>\n",
       "      <th></th>\n",
       "      <th></th>\n",
       "      <th></th>\n",
       "    </tr>\n",
       "  </thead>\n",
       "  <tbody>\n",
       "    <tr>\n",
       "      <th>1</th>\n",
       "      <td>13</td>\n",
       "      <td>11</td>\n",
       "      <td>6</td>\n",
       "      <td>12</td>\n",
       "      <td>11</td>\n",
       "      <td>11</td>\n",
       "    </tr>\n",
       "    <tr>\n",
       "      <th>2</th>\n",
       "      <td>9</td>\n",
       "      <td>10</td>\n",
       "      <td>12</td>\n",
       "      <td>6</td>\n",
       "      <td>7</td>\n",
       "      <td>11</td>\n",
       "    </tr>\n",
       "    <tr>\n",
       "      <th>3</th>\n",
       "      <td>7</td>\n",
       "      <td>7</td>\n",
       "      <td>13</td>\n",
       "      <td>9</td>\n",
       "      <td>14</td>\n",
       "      <td>14</td>\n",
       "    </tr>\n",
       "    <tr>\n",
       "      <th>4</th>\n",
       "      <td>17</td>\n",
       "      <td>10</td>\n",
       "      <td>13</td>\n",
       "      <td>10</td>\n",
       "      <td>12</td>\n",
       "      <td>15</td>\n",
       "    </tr>\n",
       "    <tr>\n",
       "      <th>5</th>\n",
       "      <td>11</td>\n",
       "      <td>19</td>\n",
       "      <td>12</td>\n",
       "      <td>11</td>\n",
       "      <td>14</td>\n",
       "      <td>11</td>\n",
       "    </tr>\n",
       "  </tbody>\n",
       "</table>\n",
       "</div>"
      ],
      "text/plain": [
       "area      0   1   2   3   4   5\n",
       "user_id                        \n",
       "1        13  11   6  12  11  11\n",
       "2         9  10  12   6   7  11\n",
       "3         7   7  13   9  14  14\n",
       "4        17  10  13  10  12  15\n",
       "5        11  19  12  11  14  11"
      ]
     },
     "execution_count": 218,
     "metadata": {},
     "output_type": "execute_result"
    }
   ],
   "source": [
    "genre_matrix.head()"
   ]
  },
  {
   "cell_type": "code",
   "execution_count": 167,
   "metadata": {},
   "outputs": [],
   "source": [
    "data = api_search('파이썬')['items']"
   ]
  },
  {
   "cell_type": "code",
   "execution_count": 168,
   "metadata": {},
   "outputs": [],
   "source": [
    "crawling_list = []\n",
    "for each_news in data:\n",
    "    crawling_list.append(each_news['link'])"
   ]
  },
  {
   "cell_type": "code",
   "execution_count": 169,
   "metadata": {},
   "outputs": [],
   "source": [
    "def go_get_article(crawling_list):\n",
    "    import pandas as pd\n",
    "    import time\n",
    "    from bs4 import BeautifulSoup\n",
    "    import requests\n",
    "\n",
    "    \n",
    "    \n",
    "    article_list = []\n",
    "\n",
    "    for idx, val in enumerate(crawling_list):\n",
    "        html = val\n",
    "        response = requests.get(html)\n",
    "        web_elem = BeautifulSoup(response.content, 'html.parser')\n",
    "        p_tags = web_elem.find_all('p')\n",
    "\n",
    "        article = ''\n",
    "\n",
    "        for each in p_tags:\n",
    "            article += each.text\n",
    "\n",
    "        article_list.append(article)\n",
    "\n",
    "        if idx%10==0:\n",
    "            print('{} completed, {} total'.format(idx+1,len(crawling_list)))\n",
    "        \n",
    "    return article_list"
   ]
  },
  {
   "cell_type": "code",
   "execution_count": 377,
   "metadata": {
    "scrolled": true
   },
   "outputs": [
    {
     "name": "stdout",
     "output_type": "stream",
     "text": [
      "1 completed, 100 total\n",
      "11 completed, 100 total\n",
      "21 completed, 100 total\n",
      "31 completed, 100 total\n",
      "41 completed, 100 total\n",
      "51 completed, 100 total\n",
      "61 completed, 100 total\n",
      "71 completed, 100 total\n",
      "81 completed, 100 total\n",
      "91 completed, 100 total\n"
     ]
    }
   ],
   "source": [
    "tmp = go_get_article(crawling_list)"
   ]
  },
  {
   "cell_type": "code",
   "execution_count": 383,
   "metadata": {},
   "outputs": [],
   "source": [
    "tmp = [each.split('.') for each in tmp]"
   ]
  },
  {
   "cell_type": "code",
   "execution_count": 384,
   "metadata": {},
   "outputs": [],
   "source": [
    "import re\n",
    "\n",
    "def trimming(articles):\n",
    "    is_email = []\n",
    "    for each in articles:\n",
    "        tmp = re.findall('[^@]+@[^@]+\\.[^@]+', each)\n",
    "        is_email.append(tmp)\n",
    "    \n",
    "    is_email = [True if len(each)!=0 else False for each in is_email]\n",
    "    upper_bound = len(is_email) - 2 - is_email[::-1].index(True) if True in is_email else len(is_email)-1\n",
    "    \n",
    "    articles = [articles[idx] if not is_email[idx] else '' for idx in range(0,upper_bound)]\n",
    "    \n",
    "    # 2.\n",
    "    for idx, val in enumerate(articles):\n",
    "        converted = re.sub('[^가-힣0-9a-zA-Z.\\\\s]', ' ', val)\n",
    "        articles[idx] = converted\n",
    "    \n",
    "    # 3.\n",
    "    articles = [each for each in articles if each != '']\n",
    "    \n",
    "    return articles"
   ]
  },
  {
   "cell_type": "code",
   "execution_count": 385,
   "metadata": {},
   "outputs": [],
   "source": [
    "tmp = [''.join(trimming(each)) for each in tmp]"
   ]
  },
  {
   "cell_type": "code",
   "execution_count": 386,
   "metadata": {},
   "outputs": [],
   "source": [
    "import pickle\n",
    "model = pickle.load(open('dataset/twitter-tfidf-mulnb.pkl','rb'))"
   ]
  },
  {
   "cell_type": "markdown",
   "metadata": {},
   "source": [
    "# 확률이 전부 고만고만한 애들은 제외"
   ]
  },
  {
   "cell_type": "code",
   "execution_count": 387,
   "metadata": {},
   "outputs": [],
   "source": [
    "news_content = pd.DataFrame(columns=['content'])\n",
    "news_content['content'] = pd.Series(tmp)"
   ]
  },
  {
   "cell_type": "code",
   "execution_count": 388,
   "metadata": {},
   "outputs": [
    {
     "data": {
      "text/html": [
       "<div>\n",
       "<style>\n",
       "    .dataframe thead tr:only-child th {\n",
       "        text-align: right;\n",
       "    }\n",
       "\n",
       "    .dataframe thead th {\n",
       "        text-align: left;\n",
       "    }\n",
       "\n",
       "    .dataframe tbody tr th {\n",
       "        vertical-align: top;\n",
       "    }\n",
       "</style>\n",
       "<table border=\"1\" class=\"dataframe\">\n",
       "  <thead>\n",
       "    <tr style=\"text-align: right;\">\n",
       "      <th></th>\n",
       "      <th>content</th>\n",
       "    </tr>\n",
       "  </thead>\n",
       "  <tbody>\n",
       "    <tr>\n",
       "      <th>0</th>\n",
       "      <td>청년 실업문제가 장기화되며 수요가 많은 유망직종에 대한 취준생의 관심이 나날이 확대...</td>\n",
       "    </tr>\n",
       "    <tr>\n",
       "      <th>1</th>\n",
       "      <td>\\n\\n\\n  메가스터디교육그룹 빅데이터 전문가 양성과정 수강생 중 인문사회계열 출...</td>\n",
       "    </tr>\n",
       "    <tr>\n",
       "      <th>2</th>\n",
       "      <td>신유경인턴 기자     최근 이러한 데이터의 중요성에 대해서 각 기업들도 분주하다 ...</td>\n",
       "    </tr>\n",
       "    <tr>\n",
       "      <th>3</th>\n",
       "      <td>\\n해당 언론사가 채널 주요 뉴스로직접 선정한 기사입니다\\n채널 안내\\n닫기\\n설정...</td>\n",
       "    </tr>\n",
       "    <tr>\n",
       "      <th>4</th>\n",
       "      <td>\\r\\n\\t\\t\\t 아시아뉴스통신  김정수기자 \\r\\n\\t\\t\\t기사입력   201...</td>\n",
       "    </tr>\n",
       "  </tbody>\n",
       "</table>\n",
       "</div>"
      ],
      "text/plain": [
       "                                             content\n",
       "0  청년 실업문제가 장기화되며 수요가 많은 유망직종에 대한 취준생의 관심이 나날이 확대...\n",
       "1  \\n\\n\\n  메가스터디교육그룹 빅데이터 전문가 양성과정 수강생 중 인문사회계열 출...\n",
       "2  신유경인턴 기자     최근 이러한 데이터의 중요성에 대해서 각 기업들도 분주하다 ...\n",
       "3  \\n해당 언론사가 채널 주요 뉴스로직접 선정한 기사입니다\\n채널 안내\\n닫기\\n설정...\n",
       "4  \\r\\n\\t\\t\\t 아시아뉴스통신  김정수기자 \\r\\n\\t\\t\\t기사입력   201..."
      ]
     },
     "execution_count": 388,
     "metadata": {},
     "output_type": "execute_result"
    }
   ],
   "source": [
    "news_content.head()"
   ]
  },
  {
   "cell_type": "code",
   "execution_count": 389,
   "metadata": {},
   "outputs": [],
   "source": [
    "X_test = news_content['content']"
   ]
  },
  {
   "cell_type": "code",
   "execution_count": 391,
   "metadata": {},
   "outputs": [
    {
     "name": "stdout",
     "output_type": "stream",
     "text": [
      "Wall time: 2.99 s\n"
     ]
    }
   ],
   "source": [
    "%%time\n",
    "y_pred = model.predict(X_test)"
   ]
  },
  {
   "cell_type": "code",
   "execution_count": 392,
   "metadata": {},
   "outputs": [
    {
     "data": {
      "text/plain": [
       "array([65, 76, 68, 41, 42], dtype=int64)"
      ]
     },
     "execution_count": 392,
     "metadata": {},
     "output_type": "execute_result"
    }
   ],
   "source": [
    "# 키워드가 파이썬인데 사회로 분류된 애들\n",
    "y_pred.argsort()[:5]"
   ]
  },
  {
   "cell_type": "code",
   "execution_count": 393,
   "metadata": {},
   "outputs": [
    {
     "data": {
      "text/plain": [
       "1"
      ]
     },
     "execution_count": 393,
     "metadata": {},
     "output_type": "execute_result"
    }
   ],
   "source": [
    "y_pred[76]"
   ]
  },
  {
   "cell_type": "code",
   "execution_count": 394,
   "metadata": {},
   "outputs": [
    {
     "data": {
      "text/plain": [
       "1"
      ]
     },
     "execution_count": 394,
     "metadata": {},
     "output_type": "execute_result"
    }
   ],
   "source": [
    "y_pred[68]"
   ]
  },
  {
   "cell_type": "code",
   "execution_count": 395,
   "metadata": {},
   "outputs": [
    {
     "data": {
      "text/plain": [
       "area\n",
       "0    13\n",
       "1    11\n",
       "2     6\n",
       "3    12\n",
       "4    11\n",
       "5    11\n",
       "Name: 1, dtype: int64"
      ]
     },
     "execution_count": 395,
     "metadata": {},
     "output_type": "execute_result"
    }
   ],
   "source": [
    "genre_matrix.loc[1]"
   ]
  },
  {
   "cell_type": "code",
   "execution_count": 374,
   "metadata": {},
   "outputs": [],
   "source": [
    "def news_rank(user_id, genre_matrix, y_pred):\n",
    "    user_pref = genre_matrix.loc[user_id].sort_values(ascending=False).index\n",
    "    \n",
    "    print(user_pref,'\\n')\n",
    "    \n",
    "    article = []\n",
    "    \n",
    "    for area in range(0,6):\n",
    "        each_area = np.argwhere(y_pred==area)\n",
    "        each_area = each_area.reshape(1,len(each_area))\n",
    "        article.append(each_area)\n",
    "    \n",
    "    news_rank = []\n",
    "\n",
    "    for idx, each in enumerate(article):\n",
    "        print(idx, each)\n",
    "    \n",
    "    for pref_area in user_pref:\n",
    "        for each_article in article[pref_area]:\n",
    "            for each in each_article:\n",
    "                news_rank.append(each)\n",
    "    \n",
    "    return news_rank"
   ]
  },
  {
   "cell_type": "code",
   "execution_count": 375,
   "metadata": {},
   "outputs": [
    {
     "name": "stdout",
     "output_type": "stream",
     "text": [
      "Int64Index([0, 3, 5, 4, 1, 2], dtype='int64', name='area') \n",
      "\n",
      "0 [[65]]\n",
      "1 [[41 42 68 76]]\n",
      "2 [[ 4 49 50 52]]\n",
      "3 []\n",
      "4 [[ 3  9 12 17 22 24 26 28 29 30 31 34 36 43 45 47 51 53 63 66 71 73 82 84\n",
      "  85 89 90 92 94 95 96]]\n",
      "5 [[ 0  1  2  5  6  7  8 10 11 13 14 15 16 18 19 20 21 23 25 27 32 33 35 37\n",
      "  38 39 40 44 46 48 54 55 56 57 58 59 60 61 62 64 67 69 70 72 74 75 77 78\n",
      "  79 80 81 83 86 87 88 91 93 97 98 99]]\n"
     ]
    }
   ],
   "source": [
    "news = news_rank(1,genre_matrix, y_pred)"
   ]
  },
  {
   "cell_type": "code",
   "execution_count": 397,
   "metadata": {},
   "outputs": [
    {
     "name": "stdout",
     "output_type": "stream",
     "text": [
      "http://it.chosun.com/news/article.html?no=2849103\n",
      "http://www.getnews.co.kr/news/articleView.html?idxno=62918\n",
      "http://www.metroseoul.co.kr/news/newsview?newscd=2018041500072\n",
      "http://edu.donga.com/?p=article&ps=view&at_no=20180413175338210274\n",
      "http://www.newsbrite.net/news/view.php?no=14914\n",
      "http://www.dailygrid.net/news/articleView.html?idxno=73756\n",
      "http://www.itworld.co.kr/news/108910\n",
      "http://www.enewstoday.co.kr/news/articleView.html?idxno=1178865\n",
      "http://www.hellot.net/new_hellot/magazine/magazine_read.html?code=202&sub=004&idx=40459\n",
      "http://www.cctvnews.co.kr/news/articleView.html?idxno=82039\n",
      "http://edu.donga.com/?p=article&ps=view&at_no=20180412154229620376\n",
      "http://www.ciobiz.co.kr/news/article.html?id=20180412120006\n",
      "http://www.itnews.or.kr/?p=26296\n",
      "http://www.newsworks.co.kr/news/articleView.html?idxno=179657\n",
      "http://www.ciokorea.com/news/37897\n",
      "http://www.betanews.net:8080/article/838441.html\n",
      "http://www.itdaily.kr/news/articleView.html?idxno=88551\n",
      "http://www.greened.kr/news/articleView.html?idxno=58218\n",
      "http://www.gokorea.kr/news/articleView.html?idxno=42284\n",
      "http://www.gokorea.kr/news/articleView.html?idxno=42299\n",
      "http://www.joongdo.co.kr/main/view.php?key=20180410001052066\n",
      "http://www.gokorea.kr/news/articleView.html?idxno=42132\n",
      "http://kids.hankooki.com/lpage/news/201804/kd20180409085926103170.htm\n",
      "http://www.metroseoul.co.kr/news/newsview?newscd=2018040800021\n",
      "http://www.newspim.com/news/view/20180406000323\n",
      "http://edu.donga.com/?p=article&ps=view&at_no=20180406143130413067\n",
      "http://www.ciokorea.com/news/37843\n",
      "http://www.futurekorea.co.kr/news/articleView.html?idxno=104844\n",
      "http://www.viva100.com/main/view.php?key=20180405010002220\n",
      "http://www.getnews.co.kr/news/articleView.html?idxno=60252\n",
      "http://www.naeil.com/news_view/?id_art=271634\n",
      "http://www.naeil.com/news_view/?id_art=271460\n",
      "http://www.ciokorea.com/news/37808\n",
      "http://www.newsmaker.or.kr/news/articleView.html?idxno=58288\n",
      "http://www.venturesquare.net/761604\n",
      "http://edu.donga.com/?p=article&ps=view&at_no=20180402163732249889\n",
      "http://www.futurekorea.co.kr/news/articleView.html?idxno=104645\n",
      "http://news.unn.net/news/articleView.html?idxno=187547\n",
      "http://www.e2news.com/news/articleView.html?idxno=107609\n",
      "http://www.itworld.co.kr/news/108761\n",
      "http://www.itdaily.kr/news/articleView.html?idxno=88359\n",
      "http://www.dhnews.co.kr/news/articleView.html?idxno=79765\n",
      "http://www.ciokorea.com/news/37751\n",
      "http://platum.kr/archives/97794\n",
      "http://www.venturesquare.net/761421\n",
      "http://www.datanet.co.kr/news/articleView.html?idxno=121123\n",
      "http://www.futurekorea.co.kr/news/articleView.html?idxno=104502\n",
      "https://kizmom.hankyung.com/news/view.html?aid=201803274526o\n",
      "http://www.naeil.com/news_view/?id_art=270671\n",
      "http://www.itworld.co.kr/news/108698\n",
      "http://newsbrite.net/news/view.php?no=9101\n",
      "http://www.newsworker.co.kr/news/articleView.html?idxno=16534\n",
      "http://edu.donga.com/?p=article&ps=view&at_no=20180326161756473988\n",
      "http://www.itnews.or.kr/?p=26040\n",
      "http://sports.news.naver.com/esports/news/read.nhn?oid=442&aid=0000076121\n",
      "http://www.getnews.co.kr/view.php?ud=2018032316051644343b46bb1104_16\n",
      "http://www.datanet.co.kr/news/articleView.html?idxno=120923\n",
      "http://techm.kr/bbs/board.php?bo_table=article&wr_id=4715\n",
      "http://www.itworld.co.kr/news/108589\n",
      "http://www.wsobi.com/news/articleView.html?idxno=58375\n",
      "http://edu.donga.com/?p=article&ps=view&at_no=20180320144806585440\n",
      "http://news.naver.com/main/read.nhn?mode=LSD&mid=sec&sid1=102&oid=215&aid=0000622215\n",
      "http://news.naver.com/main/read.nhn?mode=LSD&mid=sec&sid1=004&oid=079&aid=0003089774\n",
      "http://news.naver.com/main/read.nhn?mode=LSD&mid=sec&sid1=105&oid=018&aid=0004078082\n",
      "http://news.naver.com/main/read.nhn?mode=LSD&mid=sec&sid1=105&oid=029&aid=0002458144\n",
      "http://news.naver.com/main/read.nhn?mode=LSD&mid=sec&sid1=004&oid=215&aid=0000620852\n",
      "http://news.naver.com/main/read.nhn?mode=LSD&mid=sec&sid1=101&oid=277&aid=0004215757\n",
      "http://news.naver.com/main/read.nhn?mode=LSD&mid=sec&sid1=102&oid=310&aid=0000065263\n",
      "http://news.naver.com/main/read.nhn?mode=LSD&mid=sec&sid1=105&oid=092&aid=0002135009\n",
      "http://news.naver.com/main/read.nhn?mode=LSD&mid=sec&sid1=105&oid=366&aid=0000403371\n",
      "http://news.naver.com/main/read.nhn?mode=LSD&mid=sec&sid1=105&oid=018&aid=0004074939\n",
      "http://news.naver.com/main/read.nhn?mode=LSD&mid=sec&sid1=102&oid=014&aid=0003997959\n",
      "http://news.naver.com/main/read.nhn?mode=LSD&mid=sec&sid1=102&oid=047&aid=0002185098\n",
      "http://news.naver.com/main/read.nhn?mode=LSD&mid=sec&sid1=105&oid=022&aid=0003263805\n",
      "http://news.naver.com/main/read.nhn?mode=LSD&mid=sec&sid1=101&oid=144&aid=0000545617\n",
      "http://news.naver.com/main/read.nhn?mode=LSD&mid=sec&sid1=102&oid=025&aid=0002810934\n",
      "http://theleader.mt.co.kr/articleView.html?no=2018040510087849632\n",
      "http://news.naver.com/main/read.nhn?mode=LSD&mid=sec&sid1=102&oid=277&aid=0004211836\n",
      "http://news.naver.com/main/read.nhn?mode=LSD&mid=sec&sid1=105&oid=092&aid=0002134689\n",
      "http://www.joongdo.co.kr/main/view.php?key=20180402010000444\n",
      "http://news.naver.com/main/read.nhn?mode=LSD&mid=sec&sid1=101&oid=029&aid=0002455992\n",
      "http://www.ggilbo.com/news/articleView.html?idxno=455888\n",
      "http://news.naver.com/main/read.nhn?mode=LSD&mid=sec&sid1=105&oid=293&aid=0000021807\n",
      "http://news.naver.com/main/read.nhn?mode=LSD&mid=sec&sid1=004&oid=366&aid=0000402220\n",
      "http://www.dtoday.co.kr/news/articleView.html?idxno=263345\n",
      "http://news.naver.com/main/read.nhn?mode=LSD&mid=sec&sid1=004&oid=366&aid=0000402111\n",
      "http://news.naver.com/main/read.nhn?mode=LSD&mid=sec&sid1=101&oid=417&aid=0000304458\n",
      "http://news.naver.com/main/read.nhn?mode=LSD&mid=sec&sid1=101&oid=001&aid=0009977287\n",
      "http://news.naver.com/main/read.nhn?mode=LSD&mid=sec&sid1=105&oid=092&aid=0002133745\n",
      "https://kizmom.hankyung.com/news/view.html?aid=201803210296o\n",
      "http://news.naver.com/main/read.nhn?mode=LSD&mid=sec&sid1=101&oid=001&aid=0009972372\n",
      "http://news.naver.com/main/read.nhn?mode=LSD&mid=sec&sid1=101&oid=016&aid=0001368956\n",
      "http://www.ebn.co.kr/news/view/936819\n",
      "http://news.mtn.co.kr/newscenter/news_viewer.mtn?gidx=2018040608272749950\n",
      "http://www.sisamagazine.co.kr/news/articleView.html?idxno=131152\n",
      "http://www.g-enews.com/ko-kr/news/article/news_all/2018032903482680404a01bf698f_1/article.html\n",
      "http://www.anewsa.com/detail.php?number=1303653&thread=10r02\n",
      "http://www.hg-times.com/news/articleView.html?idxno=180176\n",
      "http://www.shinailbo.co.kr/news/articleView.html?idxno=1059101\n",
      "http://www.kyeongin.com/main/view.php?key=20180404010001785\n"
     ]
    }
   ],
   "source": [
    "for each in news:\n",
    "    print(crawling_list[each])"
   ]
  },
  {
   "cell_type": "code",
   "execution_count": null,
   "metadata": {},
   "outputs": [],
   "source": []
  }
 ],
 "metadata": {
  "kernelspec": {
   "display_name": "Python 3",
   "language": "python",
   "name": "python3"
  },
  "language_info": {
   "codemirror_mode": {
    "name": "ipython",
    "version": 3
   },
   "file_extension": ".py",
   "mimetype": "text/x-python",
   "name": "python",
   "nbconvert_exporter": "python",
   "pygments_lexer": "ipython3",
   "version": "3.6.3"
  }
 },
 "nbformat": 4,
 "nbformat_minor": 2
}
