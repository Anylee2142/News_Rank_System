{
 "cells": [
  {
   "cell_type": "code",
   "execution_count": 99,
   "metadata": {},
   "outputs": [],
   "source": [
    "from selenium import webdriver\n",
    "import pandas as pd\n",
    "import time"
   ]
  },
  {
   "cell_type": "code",
   "execution_count": 120,
   "metadata": {},
   "outputs": [],
   "source": [
    "# 정치\n",
    "driver =  webdriver.Chrome('chromedriver.exe')\n",
    "driver.get('http://news.naver.com/main/main.nhn?mode=LSD&mid=shm&sid1=100')\n",
    "articles = driver.find_element_by_css_selector('#section_body')\n",
    "article_list = articles.find_elements_by_css_selector('dl > dt:nth-child(2) > a')\n",
    "href_list = [each.get_attribute('href') for each in article_list]"
   ]
  },
  {
   "cell_type": "code",
   "execution_count": 121,
   "metadata": {},
   "outputs": [
    {
     "name": "stdout",
     "output_type": "stream",
     "text": [
      "Crawling title = 정치/0-2018-04-12 17-39.txt\n",
      "Crawling title = 정치/1-2018-04-12 17-38.txt\n",
      "Crawling title = 정치/2-2018-04-12 17-37.txt\n",
      "Crawling title = 정치/3-2018-04-12 17-35.txt\n",
      "Crawling title = 정치/4-2018-04-12 17-32.txt\n",
      "Crawling title = 정치/5-2018-04-12 17-29.txt\n",
      "Crawling title = 정치/6-2018-04-12 17-28.txt\n",
      "Crawling title = 정치/7-2018-04-12 17-25.txt\n",
      "Crawling title = 정치/8-2018-04-12 17-22.txt\n",
      "Crawling title = 정치/9-2018-04-12 17-20.txt\n",
      "Crawling title = 정치/10-2018-04-12 17-19.txt\n",
      "Crawling title = 정치/11-2018-04-12 17-16.txt\n",
      "Crawling title = 정치/12-2018-04-12 17-15.txt\n",
      "Crawling title = 정치/13-2018-04-12 17-14.txt\n",
      "Crawling title = 정치/14-2018-04-12 17-14.txt\n",
      "Crawling title = 정치/15-2018-04-12 17-13.txt\n",
      "Crawling title = 정치/16-2018-04-12 17-11.txt\n",
      "Crawling title = 정치/17-2018-04-12 17-06.txt\n",
      "Crawling title = 정치/18-2018-04-12 17-06.txt\n",
      "Crawling title = 정치/19-2018-04-12 17-04.txt\n"
     ]
    }
   ],
   "source": [
    "count = 0\n",
    "for article in href_list:\n",
    "    driver.get(article)\n",
    "    article_body = driver.find_element_by_id('articleBodyContents')\n",
    "    time.sleep(0.5)\n",
    "\n",
    "    title = driver.find_element_by_class_name('t11')\n",
    "    content = article_body.text\n",
    "    file_name = '정치/{}-{}.txt'.format(count, title.text.replace(':', '-'))\n",
    "    with open(file_name, 'w', encoding='UTF-8') as f:\n",
    "        f.write(content)\n",
    "    \n",
    "    count += 1\n",
    "        \n",
    "    print('Crawling title = '+ file_name)"
   ]
  },
  {
   "cell_type": "code",
   "execution_count": 85,
   "metadata": {},
   "outputs": [],
   "source": [
    "driver.get(href_list[0])\n",
    "article_body = driver.find_element_by_id('articleBodyContents')\n",
    "title = driver.find_element_by_class_name('t11').text\n",
    "with open('정치/{}.txt'.format(title.replace(':','-')),'w') as f:\n",
    "    f.write(article_body.text)"
   ]
  },
  {
   "cell_type": "code",
   "execution_count": 119,
   "metadata": {},
   "outputs": [
    {
     "data": {
      "text/plain": [
       "20"
      ]
     },
     "execution_count": 119,
     "metadata": {},
     "output_type": "execute_result"
    }
   ],
   "source": [
    "len(href_list)"
   ]
  },
  {
   "cell_type": "code",
   "execution_count": null,
   "metadata": {},
   "outputs": [],
   "source": []
  }
 ],
 "metadata": {
  "kernelspec": {
   "display_name": "Python 3",
   "language": "python",
   "name": "python3"
  },
  "language_info": {
   "codemirror_mode": {
    "name": "ipython",
    "version": 3
   },
   "file_extension": ".py",
   "mimetype": "text/x-python",
   "name": "python",
   "nbconvert_exporter": "python",
   "pygments_lexer": "ipython3",
   "version": "3.6.3"
  }
 },
 "nbformat": 4,
 "nbformat_minor": 2
}
