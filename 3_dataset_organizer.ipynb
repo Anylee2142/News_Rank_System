{
 "cells": [
  {
   "cell_type": "code",
   "execution_count": 1,
   "metadata": {},
   "outputs": [],
   "source": [
    "import pandas as pd\n",
    "import pickle\n",
    "\n",
    "from os import listdir\n",
    "from os.path import isfile, join"
   ]
  },
  {
   "cell_type": "code",
   "execution_count": 5,
   "metadata": {
    "scrolled": true
   },
   "outputs": [
    {
     "name": "stdout",
     "output_type": "stream",
     "text": [
      "('정치', 0)  completed !\n",
      "('경제', 1)  completed !\n",
      "('사회', 2)  completed !\n",
      "('세계', 3)  completed !\n",
      "('생활문화', 4)  completed !\n",
      "('IT과학', 5)  completed !\n"
     ]
    }
   ],
   "source": [
    "path = [('정치',0), ('경제',1), ('사회',2), ('세계',3), ('생활문화',4), ('IT과학',5)]\n",
    "# path = [('정치',0)]\n",
    "\n",
    "total_df = pd.DataFrame(columns=['content','area'])\n",
    "\n",
    "for each in path:\n",
    "    preprocess_path = '{}/{}'.format('preprocess',each[0])\n",
    "    file_names = [f for f in listdir(preprocess_path) if isfile(\n",
    "        join(preprocess_path, f)) and f.endswith(\".txt\")]\n",
    "    full_names = ['{}/{}'.format(preprocess_path, tmp) for tmp in file_names]\n",
    "\n",
    "    contents = []\n",
    "    written_date = []\n",
    "    \n",
    "    df = pd.DataFrame(columns=['content','area'])\n",
    "    \n",
    "    for file_name in full_names:\n",
    "\n",
    "        with open(file_name, 'r', encoding='utf-8') as f:\n",
    "            contents.append(f.read())\n",
    "            written_date.append(file_name)\n",
    "            \n",
    "    df['content'] = pd.Series(contents)\n",
    "    df['area'] = each[1]\n",
    "    df['written_date'] = pd.Series(written_date)\n",
    "    df['written_date'] = df['written_date'].apply(lambda x: '-'.join(x.split('/')[1].replace('.txt','').split('-')[1:]))\n",
    "    df['written_date'] = df['written_date'].apply(lambda x: '-'.join(x.split()))\n",
    "    df['title'] = df['content'].apply(lambda x: x.split('\\n')[0].replace('\\t',''))\n",
    "    \n",
    "    df = df[['title','content','written_date','area']]\n",
    "    \n",
    "    total_df = total_df.append(df)\n",
    "    print(each,' completed !')\n",
    "\n",
    "total_df['area'] = total_df.area.astype('int64')\n",
    "total_df.reset_index(drop=True, inplace=True)"
   ]
  },
  {
   "cell_type": "code",
   "execution_count": 6,
   "metadata": {},
   "outputs": [],
   "source": [
    "from datetime import datetime\n",
    "\n",
    "now = datetime.now()\n",
    "cur_time = now.strftime('%Y-%m-%d %H-%M-%S')"
   ]
  },
  {
   "cell_type": "code",
   "execution_count": 8,
   "metadata": {},
   "outputs": [],
   "source": [
    "with open('dataset/training_{}.pkl'.format(cur_time),'wb') as f:\n",
    "    pickle.dump(total_df, f)"
   ]
  },
  {
   "cell_type": "code",
   "execution_count": 10,
   "metadata": {},
   "outputs": [],
   "source": [
    "data = pd.read_pickle('dataset/training_{}.pkl'.format(cur_time))"
   ]
  },
  {
   "cell_type": "code",
   "execution_count": 11,
   "metadata": {},
   "outputs": [
    {
     "data": {
      "text/html": [
       "<div>\n",
       "<style>\n",
       "    .dataframe thead tr:only-child th {\n",
       "        text-align: right;\n",
       "    }\n",
       "\n",
       "    .dataframe thead th {\n",
       "        text-align: left;\n",
       "    }\n",
       "\n",
       "    .dataframe tbody tr th {\n",
       "        vertical-align: top;\n",
       "    }\n",
       "</style>\n",
       "<table border=\"1\" class=\"dataframe\">\n",
       "  <thead>\n",
       "    <tr style=\"text-align: right;\">\n",
       "      <th></th>\n",
       "      <th>area</th>\n",
       "      <th>content</th>\n",
       "      <th>title</th>\n",
       "      <th>written_date</th>\n",
       "    </tr>\n",
       "  </thead>\n",
       "  <tbody>\n",
       "    <tr>\n",
       "      <th>0</th>\n",
       "      <td>0</td>\n",
       "      <td>\\t정의당  정치권  댓글 조작 사건 정쟁화 말고 재발 방지에 집중해야 \\n\\n\\n...</td>\n",
       "      <td>정의당  정치권  댓글 조작 사건 정쟁화 말고 재발 방지에 집중해야</td>\n",
       "      <td></td>\n",
       "    </tr>\n",
       "    <tr>\n",
       "      <th>1</th>\n",
       "      <td>0</td>\n",
       "      <td>\\t 단독   안철수 지지율 37 로 오른 5일간 대대적 네거티브 공격 \\n\\n 문...</td>\n",
       "      <td>단독   안철수 지지율 37 로 오른 5일간 대대적 네거티브 공격</td>\n",
       "      <td></td>\n",
       "    </tr>\n",
       "    <tr>\n",
       "      <th>2</th>\n",
       "      <td>0</td>\n",
       "      <td>\\t민주당원 여론조작 놓고 여야 공방  개인 범죄  vs  배후 밝혀야 \\n\\n박범...</td>\n",
       "      <td>민주당원 여론조작 놓고 여야 공방  개인 범죄  vs  배후 밝혀야</td>\n",
       "      <td></td>\n",
       "    </tr>\n",
       "    <tr>\n",
       "      <th>3</th>\n",
       "      <td>0</td>\n",
       "      <td>\\t 단독  에 추천된 변호사  드루킹 체포 두 달 전 동행 해명 일부 모순\\n\\n...</td>\n",
       "      <td>단독  에 추천된 변호사  드루킹 체포 두 달 전 동행 해명 일부 모순</td>\n",
       "      <td></td>\n",
       "    </tr>\n",
       "    <tr>\n",
       "      <th>4</th>\n",
       "      <td>0</td>\n",
       "      <td>\\t평화당  민주당  보수정권 전유물로 여겨진 여론조작 자행 충격 \\n\\n\\n\\n ...</td>\n",
       "      <td>평화당  민주당  보수정권 전유물로 여겨진 여론조작 자행 충격</td>\n",
       "      <td></td>\n",
       "    </tr>\n",
       "  </tbody>\n",
       "</table>\n",
       "</div>"
      ],
      "text/plain": [
       "   area                                            content  \\\n",
       "0     0  \\t정의당  정치권  댓글 조작 사건 정쟁화 말고 재발 방지에 집중해야 \\n\\n\\n...   \n",
       "1     0  \\t 단독   안철수 지지율 37 로 오른 5일간 대대적 네거티브 공격 \\n\\n 문...   \n",
       "2     0  \\t민주당원 여론조작 놓고 여야 공방  개인 범죄  vs  배후 밝혀야 \\n\\n박범...   \n",
       "3     0  \\t 단독  에 추천된 변호사  드루킹 체포 두 달 전 동행 해명 일부 모순\\n\\n...   \n",
       "4     0  \\t평화당  민주당  보수정권 전유물로 여겨진 여론조작 자행 충격 \\n\\n\\n\\n ...   \n",
       "\n",
       "                                      title written_date  \n",
       "0    정의당  정치권  댓글 조작 사건 정쟁화 말고 재발 방지에 집중해야                \n",
       "1     단독   안철수 지지율 37 로 오른 5일간 대대적 네거티브 공격                \n",
       "2    민주당원 여론조작 놓고 여야 공방  개인 범죄  vs  배후 밝혀야                \n",
       "3   단독  에 추천된 변호사  드루킹 체포 두 달 전 동행 해명 일부 모순               \n",
       "4       평화당  민주당  보수정권 전유물로 여겨진 여론조작 자행 충격                "
      ]
     },
     "execution_count": 11,
     "metadata": {},
     "output_type": "execute_result"
    }
   ],
   "source": [
    "data.head()"
   ]
  },
  {
   "cell_type": "code",
   "execution_count": null,
   "metadata": {},
   "outputs": [],
   "source": []
  }
 ],
 "metadata": {
  "kernelspec": {
   "display_name": "Python 3",
   "language": "python",
   "name": "python3"
  },
  "language_info": {
   "codemirror_mode": {
    "name": "ipython",
    "version": 3
   },
   "file_extension": ".py",
   "mimetype": "text/x-python",
   "name": "python",
   "nbconvert_exporter": "python",
   "pygments_lexer": "ipython3",
   "version": "3.6.3"
  }
 },
 "nbformat": 4,
 "nbformat_minor": 2
}
