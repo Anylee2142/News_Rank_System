{
 "cells": [
  {
   "cell_type": "code",
   "execution_count": 10,
   "metadata": {},
   "outputs": [],
   "source": [
    "import re\n",
    "\n",
    "def trimming(file_name):\n",
    "    # 1. 역순으로 제일 먼저 찾은 이메일 밑으로 다 없앰\n",
    "    # 2. 나머지 특수문자들 다 없앰 (. 빼고)\n",
    "    # 3. 공백문자열 다 없앰\n",
    "    \n",
    "    with open(file_name,'r',encoding='utf8') as f:\n",
    "        articles = f.readlines()\n",
    "    \n",
    "    # 1.\n",
    "    is_email = []\n",
    "    for each in articles:\n",
    "        tmp = re.findall('[^@]+@[^@]+\\.[^@]+', each)\n",
    "        is_email.append(tmp)\n",
    "    \n",
    "    is_email = [True if len(each)!=0 else False for each in is_email]\n",
    "    upper_bound = len(is_email) - 2 - is_email[::-1].index(True) if True in is_email else len(is_email)-1\n",
    "    \n",
    "    articles = [articles[idx] if not is_email[idx] else '' for idx in range(0,upper_bound)]\n",
    "    \n",
    "    # 2.\n",
    "    for idx, val in enumerate(articles):\n",
    "        converted = re.sub('[^가-힣0-9a-zA-Z.\\\\s]', ' ', val)\n",
    "        articles[idx] = converted\n",
    "    \n",
    "    # 3.\n",
    "    articles = [each for each in articles if each != '']\n",
    "    \n",
    "    return articles"
   ]
  },
  {
   "cell_type": "code",
   "execution_count": 11,
   "metadata": {},
   "outputs": [],
   "source": [
    "# file_name = '정치/0-2018-04-14 17-03.txt'\n",
    "# trimmed = trimming(file_name)\n",
    "# trimmed = ''.join(trimmed)"
   ]
  },
  {
   "cell_type": "code",
   "execution_count": 12,
   "metadata": {},
   "outputs": [],
   "source": [
    "# with open(file_name,'w',encoding='utf-8') as f:\n",
    "#     f.write(trimmed)"
   ]
  },
  {
   "cell_type": "code",
   "execution_count": 13,
   "metadata": {},
   "outputs": [],
   "source": [
    "# from os import listdir\n",
    "# from os.path import isfile, join\n",
    "# path = '정치'\n",
    "\n",
    "# file_names = [f for f in listdir(path) if isfile(join(path, f)) and  f.endswith(\".txt\")]\n",
    "# full_names = ['{}/{}'.format(path, each) for each in file_names ]"
   ]
  },
  {
   "cell_type": "code",
   "execution_count": 14,
   "metadata": {},
   "outputs": [],
   "source": [
    "from os import listdir\n",
    "from os.path import isfile, join\n",
    "\n",
    "path = ['정치','경제','사회','세계','생활문화','IT과학']"
   ]
  },
  {
   "cell_type": "code",
   "execution_count": 21,
   "metadata": {},
   "outputs": [
    {
     "name": "stdout",
     "output_type": "stream",
     "text": [
      "정치  completed !\n",
      "경제  completed !\n",
      "사회  completed !\n",
      "세계  completed !\n",
      "생활문화  completed !\n",
      "IT과학  completed !\n"
     ]
    }
   ],
   "source": [
    "for each in path:\n",
    "    crawling_path = '{}/{}'.format('crawling', each)\n",
    "    file_names = [f for f in listdir(crawling_path) if isfile(\n",
    "        join(crawling_path, f)) and f.endswith(\".txt\")]\n",
    "    # 파일이름\n",
    "\n",
    "    full_names = ['{}/{}'.format(each, tmp) for tmp in file_names]\n",
    "    # 영역/파일이름\n",
    "\n",
    "    crawling_path = ['{}/{}'.format('crawling',tmp) for tmp in full_names]\n",
    "    # crawling/영역/파일이름\n",
    "    \n",
    "    for idx, file_name in enumerate(crawling_path):\n",
    "        trimmed = trimming(file_name)\n",
    "        trimmed = ''.join(trimmed)\n",
    "        \n",
    "        dest_path = '{}/{}'.format('preprocess', full_names[idx])\n",
    "\n",
    "        with open(dest_path, 'w', encoding='utf-8') as f:\n",
    "            f.write(trimmed)\n",
    "\n",
    "    print(each, ' completed !')"
   ]
  },
  {
   "cell_type": "code",
   "execution_count": null,
   "metadata": {},
   "outputs": [],
   "source": []
  }
 ],
 "metadata": {
  "kernelspec": {
   "display_name": "Python 3",
   "language": "python",
   "name": "python3"
  },
  "language_info": {
   "codemirror_mode": {
    "name": "ipython",
    "version": 3
   },
   "file_extension": ".py",
   "mimetype": "text/x-python",
   "name": "python",
   "nbconvert_exporter": "python",
   "pygments_lexer": "ipython3",
   "version": "3.6.3"
  }
 },
 "nbformat": 4,
 "nbformat_minor": 2
}
